{
  "nbformat": 4,
  "nbformat_minor": 0,
  "metadata": {
    "colab": {
      "provenance": [],
      "authorship_tag": "ABX9TyPB/lJibu3nLLFvg1DmkSKD",
      "include_colab_link": true
    },
    "kernelspec": {
      "name": "python3",
      "display_name": "Python 3"
    },
    "language_info": {
      "name": "python"
    },
    "widgets": {
      "application/vnd.jupyter.widget-state+json": {
        "d2ce4816f0fa4783a11defdcf973a030": {
          "model_module": "@jupyter-widgets/controls",
          "model_name": "HBoxModel",
          "model_module_version": "1.5.0",
          "state": {
            "_dom_classes": [],
            "_model_module": "@jupyter-widgets/controls",
            "_model_module_version": "1.5.0",
            "_model_name": "HBoxModel",
            "_view_count": null,
            "_view_module": "@jupyter-widgets/controls",
            "_view_module_version": "1.5.0",
            "_view_name": "HBoxView",
            "box_style": "",
            "children": [
              "IPY_MODEL_306fc5b1440149db9c5c41ecfe3bcfdf",
              "IPY_MODEL_77b03e9107b9437ba5c1cf45399831b0",
              "IPY_MODEL_40335ddd310d41779b5b2ddb23bb023a"
            ],
            "layout": "IPY_MODEL_d54f77d1cf3d4524909cb57d534d7e05"
          }
        },
        "306fc5b1440149db9c5c41ecfe3bcfdf": {
          "model_module": "@jupyter-widgets/controls",
          "model_name": "HTMLModel",
          "model_module_version": "1.5.0",
          "state": {
            "_dom_classes": [],
            "_model_module": "@jupyter-widgets/controls",
            "_model_module_version": "1.5.0",
            "_model_name": "HTMLModel",
            "_view_count": null,
            "_view_module": "@jupyter-widgets/controls",
            "_view_module_version": "1.5.0",
            "_view_name": "HTMLView",
            "description": "",
            "description_tooltip": null,
            "layout": "IPY_MODEL_b98d754f30a648b4a670ffb2a1c8848d",
            "placeholder": "​",
            "style": "IPY_MODEL_3e7b26063f8143d6a94559ce3f9770a8",
            "value": "Dl Completed...: 100%"
          }
        },
        "77b03e9107b9437ba5c1cf45399831b0": {
          "model_module": "@jupyter-widgets/controls",
          "model_name": "FloatProgressModel",
          "model_module_version": "1.5.0",
          "state": {
            "_dom_classes": [],
            "_model_module": "@jupyter-widgets/controls",
            "_model_module_version": "1.5.0",
            "_model_name": "FloatProgressModel",
            "_view_count": null,
            "_view_module": "@jupyter-widgets/controls",
            "_view_module_version": "1.5.0",
            "_view_name": "ProgressView",
            "bar_style": "success",
            "description": "",
            "description_tooltip": null,
            "layout": "IPY_MODEL_41cd330e14cc4bdf89b65270cea62572",
            "max": 1,
            "min": 0,
            "orientation": "horizontal",
            "style": "IPY_MODEL_f1a407eb0fae460fb095474f0acbbddf",
            "value": 1
          }
        },
        "40335ddd310d41779b5b2ddb23bb023a": {
          "model_module": "@jupyter-widgets/controls",
          "model_name": "HTMLModel",
          "model_module_version": "1.5.0",
          "state": {
            "_dom_classes": [],
            "_model_module": "@jupyter-widgets/controls",
            "_model_module_version": "1.5.0",
            "_model_name": "HTMLModel",
            "_view_count": null,
            "_view_module": "@jupyter-widgets/controls",
            "_view_module_version": "1.5.0",
            "_view_name": "HTMLView",
            "description": "",
            "description_tooltip": null,
            "layout": "IPY_MODEL_4084af0258b44752a05366462fc04e75",
            "placeholder": "​",
            "style": "IPY_MODEL_cb4025d989624fec8e33725689dd6c42",
            "value": " 1/1 [00:04&lt;00:00,  2.94s/ url]"
          }
        },
        "d54f77d1cf3d4524909cb57d534d7e05": {
          "model_module": "@jupyter-widgets/base",
          "model_name": "LayoutModel",
          "model_module_version": "1.2.0",
          "state": {
            "_model_module": "@jupyter-widgets/base",
            "_model_module_version": "1.2.0",
            "_model_name": "LayoutModel",
            "_view_count": null,
            "_view_module": "@jupyter-widgets/base",
            "_view_module_version": "1.2.0",
            "_view_name": "LayoutView",
            "align_content": null,
            "align_items": null,
            "align_self": null,
            "border": null,
            "bottom": null,
            "display": null,
            "flex": null,
            "flex_flow": null,
            "grid_area": null,
            "grid_auto_columns": null,
            "grid_auto_flow": null,
            "grid_auto_rows": null,
            "grid_column": null,
            "grid_gap": null,
            "grid_row": null,
            "grid_template_areas": null,
            "grid_template_columns": null,
            "grid_template_rows": null,
            "height": null,
            "justify_content": null,
            "justify_items": null,
            "left": null,
            "margin": null,
            "max_height": null,
            "max_width": null,
            "min_height": null,
            "min_width": null,
            "object_fit": null,
            "object_position": null,
            "order": null,
            "overflow": null,
            "overflow_x": null,
            "overflow_y": null,
            "padding": null,
            "right": null,
            "top": null,
            "visibility": null,
            "width": null
          }
        },
        "b98d754f30a648b4a670ffb2a1c8848d": {
          "model_module": "@jupyter-widgets/base",
          "model_name": "LayoutModel",
          "model_module_version": "1.2.0",
          "state": {
            "_model_module": "@jupyter-widgets/base",
            "_model_module_version": "1.2.0",
            "_model_name": "LayoutModel",
            "_view_count": null,
            "_view_module": "@jupyter-widgets/base",
            "_view_module_version": "1.2.0",
            "_view_name": "LayoutView",
            "align_content": null,
            "align_items": null,
            "align_self": null,
            "border": null,
            "bottom": null,
            "display": null,
            "flex": null,
            "flex_flow": null,
            "grid_area": null,
            "grid_auto_columns": null,
            "grid_auto_flow": null,
            "grid_auto_rows": null,
            "grid_column": null,
            "grid_gap": null,
            "grid_row": null,
            "grid_template_areas": null,
            "grid_template_columns": null,
            "grid_template_rows": null,
            "height": null,
            "justify_content": null,
            "justify_items": null,
            "left": null,
            "margin": null,
            "max_height": null,
            "max_width": null,
            "min_height": null,
            "min_width": null,
            "object_fit": null,
            "object_position": null,
            "order": null,
            "overflow": null,
            "overflow_x": null,
            "overflow_y": null,
            "padding": null,
            "right": null,
            "top": null,
            "visibility": null,
            "width": null
          }
        },
        "3e7b26063f8143d6a94559ce3f9770a8": {
          "model_module": "@jupyter-widgets/controls",
          "model_name": "DescriptionStyleModel",
          "model_module_version": "1.5.0",
          "state": {
            "_model_module": "@jupyter-widgets/controls",
            "_model_module_version": "1.5.0",
            "_model_name": "DescriptionStyleModel",
            "_view_count": null,
            "_view_module": "@jupyter-widgets/base",
            "_view_module_version": "1.2.0",
            "_view_name": "StyleView",
            "description_width": ""
          }
        },
        "41cd330e14cc4bdf89b65270cea62572": {
          "model_module": "@jupyter-widgets/base",
          "model_name": "LayoutModel",
          "model_module_version": "1.2.0",
          "state": {
            "_model_module": "@jupyter-widgets/base",
            "_model_module_version": "1.2.0",
            "_model_name": "LayoutModel",
            "_view_count": null,
            "_view_module": "@jupyter-widgets/base",
            "_view_module_version": "1.2.0",
            "_view_name": "LayoutView",
            "align_content": null,
            "align_items": null,
            "align_self": null,
            "border": null,
            "bottom": null,
            "display": null,
            "flex": null,
            "flex_flow": null,
            "grid_area": null,
            "grid_auto_columns": null,
            "grid_auto_flow": null,
            "grid_auto_rows": null,
            "grid_column": null,
            "grid_gap": null,
            "grid_row": null,
            "grid_template_areas": null,
            "grid_template_columns": null,
            "grid_template_rows": null,
            "height": null,
            "justify_content": null,
            "justify_items": null,
            "left": null,
            "margin": null,
            "max_height": null,
            "max_width": null,
            "min_height": null,
            "min_width": null,
            "object_fit": null,
            "object_position": null,
            "order": null,
            "overflow": null,
            "overflow_x": null,
            "overflow_y": null,
            "padding": null,
            "right": null,
            "top": null,
            "visibility": null,
            "width": "20px"
          }
        },
        "f1a407eb0fae460fb095474f0acbbddf": {
          "model_module": "@jupyter-widgets/controls",
          "model_name": "ProgressStyleModel",
          "model_module_version": "1.5.0",
          "state": {
            "_model_module": "@jupyter-widgets/controls",
            "_model_module_version": "1.5.0",
            "_model_name": "ProgressStyleModel",
            "_view_count": null,
            "_view_module": "@jupyter-widgets/base",
            "_view_module_version": "1.2.0",
            "_view_name": "StyleView",
            "bar_color": null,
            "description_width": ""
          }
        },
        "4084af0258b44752a05366462fc04e75": {
          "model_module": "@jupyter-widgets/base",
          "model_name": "LayoutModel",
          "model_module_version": "1.2.0",
          "state": {
            "_model_module": "@jupyter-widgets/base",
            "_model_module_version": "1.2.0",
            "_model_name": "LayoutModel",
            "_view_count": null,
            "_view_module": "@jupyter-widgets/base",
            "_view_module_version": "1.2.0",
            "_view_name": "LayoutView",
            "align_content": null,
            "align_items": null,
            "align_self": null,
            "border": null,
            "bottom": null,
            "display": null,
            "flex": null,
            "flex_flow": null,
            "grid_area": null,
            "grid_auto_columns": null,
            "grid_auto_flow": null,
            "grid_auto_rows": null,
            "grid_column": null,
            "grid_gap": null,
            "grid_row": null,
            "grid_template_areas": null,
            "grid_template_columns": null,
            "grid_template_rows": null,
            "height": null,
            "justify_content": null,
            "justify_items": null,
            "left": null,
            "margin": null,
            "max_height": null,
            "max_width": null,
            "min_height": null,
            "min_width": null,
            "object_fit": null,
            "object_position": null,
            "order": null,
            "overflow": null,
            "overflow_x": null,
            "overflow_y": null,
            "padding": null,
            "right": null,
            "top": null,
            "visibility": null,
            "width": null
          }
        },
        "cb4025d989624fec8e33725689dd6c42": {
          "model_module": "@jupyter-widgets/controls",
          "model_name": "DescriptionStyleModel",
          "model_module_version": "1.5.0",
          "state": {
            "_model_module": "@jupyter-widgets/controls",
            "_model_module_version": "1.5.0",
            "_model_name": "DescriptionStyleModel",
            "_view_count": null,
            "_view_module": "@jupyter-widgets/base",
            "_view_module_version": "1.2.0",
            "_view_name": "StyleView",
            "description_width": ""
          }
        },
        "b11ce8ac49684732b0420e4b65192afa": {
          "model_module": "@jupyter-widgets/controls",
          "model_name": "HBoxModel",
          "model_module_version": "1.5.0",
          "state": {
            "_dom_classes": [],
            "_model_module": "@jupyter-widgets/controls",
            "_model_module_version": "1.5.0",
            "_model_name": "HBoxModel",
            "_view_count": null,
            "_view_module": "@jupyter-widgets/controls",
            "_view_module_version": "1.5.0",
            "_view_name": "HBoxView",
            "box_style": "",
            "children": [
              "IPY_MODEL_0fadc00b96f44f8588e30aa556d32a6a",
              "IPY_MODEL_d97fe9f7106f4afd86f4b3a2aef3f76c",
              "IPY_MODEL_bed5319850414cb5b69737959d3675b7"
            ],
            "layout": "IPY_MODEL_06cc0f9664a6444596d476d410629f36"
          }
        },
        "0fadc00b96f44f8588e30aa556d32a6a": {
          "model_module": "@jupyter-widgets/controls",
          "model_name": "HTMLModel",
          "model_module_version": "1.5.0",
          "state": {
            "_dom_classes": [],
            "_model_module": "@jupyter-widgets/controls",
            "_model_module_version": "1.5.0",
            "_model_name": "HTMLModel",
            "_view_count": null,
            "_view_module": "@jupyter-widgets/controls",
            "_view_module_version": "1.5.0",
            "_view_name": "HTMLView",
            "description": "",
            "description_tooltip": null,
            "layout": "IPY_MODEL_cef860af7a9044ea8747322d720a00e8",
            "placeholder": "​",
            "style": "IPY_MODEL_32a148e1986a42f4860c2b98b67fbace",
            "value": "Dl Size...: 100%"
          }
        },
        "d97fe9f7106f4afd86f4b3a2aef3f76c": {
          "model_module": "@jupyter-widgets/controls",
          "model_name": "FloatProgressModel",
          "model_module_version": "1.5.0",
          "state": {
            "_dom_classes": [],
            "_model_module": "@jupyter-widgets/controls",
            "_model_module_version": "1.5.0",
            "_model_name": "FloatProgressModel",
            "_view_count": null,
            "_view_module": "@jupyter-widgets/controls",
            "_view_module_version": "1.5.0",
            "_view_name": "ProgressView",
            "bar_style": "success",
            "description": "",
            "description_tooltip": null,
            "layout": "IPY_MODEL_0f495e12e55a4670bd31c491b6c6e262",
            "max": 1,
            "min": 0,
            "orientation": "horizontal",
            "style": "IPY_MODEL_ffc04b1359db466c858c1724b3f394e0",
            "value": 1
          }
        },
        "bed5319850414cb5b69737959d3675b7": {
          "model_module": "@jupyter-widgets/controls",
          "model_name": "HTMLModel",
          "model_module_version": "1.5.0",
          "state": {
            "_dom_classes": [],
            "_model_module": "@jupyter-widgets/controls",
            "_model_module_version": "1.5.0",
            "_model_name": "HTMLModel",
            "_view_count": null,
            "_view_module": "@jupyter-widgets/controls",
            "_view_module_version": "1.5.0",
            "_view_name": "HTMLView",
            "description": "",
            "description_tooltip": null,
            "layout": "IPY_MODEL_153d68332cb541e1a3351d4771edf20c",
            "placeholder": "​",
            "style": "IPY_MODEL_9085a7bb9a82465d825f24509487a773",
            "value": " 162/162 [00:04&lt;00:00, 54.07 MiB/s]"
          }
        },
        "06cc0f9664a6444596d476d410629f36": {
          "model_module": "@jupyter-widgets/base",
          "model_name": "LayoutModel",
          "model_module_version": "1.2.0",
          "state": {
            "_model_module": "@jupyter-widgets/base",
            "_model_module_version": "1.2.0",
            "_model_name": "LayoutModel",
            "_view_count": null,
            "_view_module": "@jupyter-widgets/base",
            "_view_module_version": "1.2.0",
            "_view_name": "LayoutView",
            "align_content": null,
            "align_items": null,
            "align_self": null,
            "border": null,
            "bottom": null,
            "display": null,
            "flex": null,
            "flex_flow": null,
            "grid_area": null,
            "grid_auto_columns": null,
            "grid_auto_flow": null,
            "grid_auto_rows": null,
            "grid_column": null,
            "grid_gap": null,
            "grid_row": null,
            "grid_template_areas": null,
            "grid_template_columns": null,
            "grid_template_rows": null,
            "height": null,
            "justify_content": null,
            "justify_items": null,
            "left": null,
            "margin": null,
            "max_height": null,
            "max_width": null,
            "min_height": null,
            "min_width": null,
            "object_fit": null,
            "object_position": null,
            "order": null,
            "overflow": null,
            "overflow_x": null,
            "overflow_y": null,
            "padding": null,
            "right": null,
            "top": null,
            "visibility": null,
            "width": null
          }
        },
        "cef860af7a9044ea8747322d720a00e8": {
          "model_module": "@jupyter-widgets/base",
          "model_name": "LayoutModel",
          "model_module_version": "1.2.0",
          "state": {
            "_model_module": "@jupyter-widgets/base",
            "_model_module_version": "1.2.0",
            "_model_name": "LayoutModel",
            "_view_count": null,
            "_view_module": "@jupyter-widgets/base",
            "_view_module_version": "1.2.0",
            "_view_name": "LayoutView",
            "align_content": null,
            "align_items": null,
            "align_self": null,
            "border": null,
            "bottom": null,
            "display": null,
            "flex": null,
            "flex_flow": null,
            "grid_area": null,
            "grid_auto_columns": null,
            "grid_auto_flow": null,
            "grid_auto_rows": null,
            "grid_column": null,
            "grid_gap": null,
            "grid_row": null,
            "grid_template_areas": null,
            "grid_template_columns": null,
            "grid_template_rows": null,
            "height": null,
            "justify_content": null,
            "justify_items": null,
            "left": null,
            "margin": null,
            "max_height": null,
            "max_width": null,
            "min_height": null,
            "min_width": null,
            "object_fit": null,
            "object_position": null,
            "order": null,
            "overflow": null,
            "overflow_x": null,
            "overflow_y": null,
            "padding": null,
            "right": null,
            "top": null,
            "visibility": null,
            "width": null
          }
        },
        "32a148e1986a42f4860c2b98b67fbace": {
          "model_module": "@jupyter-widgets/controls",
          "model_name": "DescriptionStyleModel",
          "model_module_version": "1.5.0",
          "state": {
            "_model_module": "@jupyter-widgets/controls",
            "_model_module_version": "1.5.0",
            "_model_name": "DescriptionStyleModel",
            "_view_count": null,
            "_view_module": "@jupyter-widgets/base",
            "_view_module_version": "1.2.0",
            "_view_name": "StyleView",
            "description_width": ""
          }
        },
        "0f495e12e55a4670bd31c491b6c6e262": {
          "model_module": "@jupyter-widgets/base",
          "model_name": "LayoutModel",
          "model_module_version": "1.2.0",
          "state": {
            "_model_module": "@jupyter-widgets/base",
            "_model_module_version": "1.2.0",
            "_model_name": "LayoutModel",
            "_view_count": null,
            "_view_module": "@jupyter-widgets/base",
            "_view_module_version": "1.2.0",
            "_view_name": "LayoutView",
            "align_content": null,
            "align_items": null,
            "align_self": null,
            "border": null,
            "bottom": null,
            "display": null,
            "flex": null,
            "flex_flow": null,
            "grid_area": null,
            "grid_auto_columns": null,
            "grid_auto_flow": null,
            "grid_auto_rows": null,
            "grid_column": null,
            "grid_gap": null,
            "grid_row": null,
            "grid_template_areas": null,
            "grid_template_columns": null,
            "grid_template_rows": null,
            "height": null,
            "justify_content": null,
            "justify_items": null,
            "left": null,
            "margin": null,
            "max_height": null,
            "max_width": null,
            "min_height": null,
            "min_width": null,
            "object_fit": null,
            "object_position": null,
            "order": null,
            "overflow": null,
            "overflow_x": null,
            "overflow_y": null,
            "padding": null,
            "right": null,
            "top": null,
            "visibility": null,
            "width": "20px"
          }
        },
        "ffc04b1359db466c858c1724b3f394e0": {
          "model_module": "@jupyter-widgets/controls",
          "model_name": "ProgressStyleModel",
          "model_module_version": "1.5.0",
          "state": {
            "_model_module": "@jupyter-widgets/controls",
            "_model_module_version": "1.5.0",
            "_model_name": "ProgressStyleModel",
            "_view_count": null,
            "_view_module": "@jupyter-widgets/base",
            "_view_module_version": "1.2.0",
            "_view_name": "StyleView",
            "bar_color": null,
            "description_width": ""
          }
        },
        "153d68332cb541e1a3351d4771edf20c": {
          "model_module": "@jupyter-widgets/base",
          "model_name": "LayoutModel",
          "model_module_version": "1.2.0",
          "state": {
            "_model_module": "@jupyter-widgets/base",
            "_model_module_version": "1.2.0",
            "_model_name": "LayoutModel",
            "_view_count": null,
            "_view_module": "@jupyter-widgets/base",
            "_view_module_version": "1.2.0",
            "_view_name": "LayoutView",
            "align_content": null,
            "align_items": null,
            "align_self": null,
            "border": null,
            "bottom": null,
            "display": null,
            "flex": null,
            "flex_flow": null,
            "grid_area": null,
            "grid_auto_columns": null,
            "grid_auto_flow": null,
            "grid_auto_rows": null,
            "grid_column": null,
            "grid_gap": null,
            "grid_row": null,
            "grid_template_areas": null,
            "grid_template_columns": null,
            "grid_template_rows": null,
            "height": null,
            "justify_content": null,
            "justify_items": null,
            "left": null,
            "margin": null,
            "max_height": null,
            "max_width": null,
            "min_height": null,
            "min_width": null,
            "object_fit": null,
            "object_position": null,
            "order": null,
            "overflow": null,
            "overflow_x": null,
            "overflow_y": null,
            "padding": null,
            "right": null,
            "top": null,
            "visibility": null,
            "width": null
          }
        },
        "9085a7bb9a82465d825f24509487a773": {
          "model_module": "@jupyter-widgets/controls",
          "model_name": "DescriptionStyleModel",
          "model_module_version": "1.5.0",
          "state": {
            "_model_module": "@jupyter-widgets/controls",
            "_model_module_version": "1.5.0",
            "_model_name": "DescriptionStyleModel",
            "_view_count": null,
            "_view_module": "@jupyter-widgets/base",
            "_view_module_version": "1.2.0",
            "_view_name": "StyleView",
            "description_width": ""
          }
        },
        "4210023519a54b6a9070784d91271e69": {
          "model_module": "@jupyter-widgets/controls",
          "model_name": "HBoxModel",
          "model_module_version": "1.5.0",
          "state": {
            "_dom_classes": [],
            "_model_module": "@jupyter-widgets/controls",
            "_model_module_version": "1.5.0",
            "_model_name": "HBoxModel",
            "_view_count": null,
            "_view_module": "@jupyter-widgets/controls",
            "_view_module_version": "1.5.0",
            "_view_name": "HBoxView",
            "box_style": "",
            "children": [
              "IPY_MODEL_5dba15367d90406ab0dca4ea6fb6439c",
              "IPY_MODEL_9aebe3f9818c4c7086f2a1bc6c2e245d",
              "IPY_MODEL_2f4ae61008ef43bc8ac31e724bc4ab2a"
            ],
            "layout": "IPY_MODEL_6ea906c48de54114aab76515907f5b27"
          }
        },
        "5dba15367d90406ab0dca4ea6fb6439c": {
          "model_module": "@jupyter-widgets/controls",
          "model_name": "HTMLModel",
          "model_module_version": "1.5.0",
          "state": {
            "_dom_classes": [],
            "_model_module": "@jupyter-widgets/controls",
            "_model_module_version": "1.5.0",
            "_model_name": "HTMLModel",
            "_view_count": null,
            "_view_module": "@jupyter-widgets/controls",
            "_view_module_version": "1.5.0",
            "_view_name": "HTMLView",
            "description": "",
            "description_tooltip": null,
            "layout": "IPY_MODEL_2a7f4ae0e73f43edaca0d2753bd2ba49",
            "placeholder": "​",
            "style": "IPY_MODEL_5658fb42bff74f7590615b5421de34c6",
            "value": "Extraction completed...: 100%"
          }
        },
        "9aebe3f9818c4c7086f2a1bc6c2e245d": {
          "model_module": "@jupyter-widgets/controls",
          "model_name": "FloatProgressModel",
          "model_module_version": "1.5.0",
          "state": {
            "_dom_classes": [],
            "_model_module": "@jupyter-widgets/controls",
            "_model_module_version": "1.5.0",
            "_model_name": "FloatProgressModel",
            "_view_count": null,
            "_view_module": "@jupyter-widgets/controls",
            "_view_module_version": "1.5.0",
            "_view_name": "ProgressView",
            "bar_style": "success",
            "description": "",
            "description_tooltip": null,
            "layout": "IPY_MODEL_929ef208bcb743e7a9e838f01b7dd951",
            "max": 1,
            "min": 0,
            "orientation": "horizontal",
            "style": "IPY_MODEL_6ddd6fee561b4ba5a38e0d293009a5f5",
            "value": 1
          }
        },
        "2f4ae61008ef43bc8ac31e724bc4ab2a": {
          "model_module": "@jupyter-widgets/controls",
          "model_name": "HTMLModel",
          "model_module_version": "1.5.0",
          "state": {
            "_dom_classes": [],
            "_model_module": "@jupyter-widgets/controls",
            "_model_module_version": "1.5.0",
            "_model_name": "HTMLModel",
            "_view_count": null,
            "_view_module": "@jupyter-widgets/controls",
            "_view_module_version": "1.5.0",
            "_view_name": "HTMLView",
            "description": "",
            "description_tooltip": null,
            "layout": "IPY_MODEL_db7cdb6bd2bd49a9a7cfa444a5d0171e",
            "placeholder": "​",
            "style": "IPY_MODEL_998e92650ef049e39250de99c650a4ee",
            "value": " 8/8 [00:04&lt;00:00,  4.64s/ file]"
          }
        },
        "6ea906c48de54114aab76515907f5b27": {
          "model_module": "@jupyter-widgets/base",
          "model_name": "LayoutModel",
          "model_module_version": "1.2.0",
          "state": {
            "_model_module": "@jupyter-widgets/base",
            "_model_module_version": "1.2.0",
            "_model_name": "LayoutModel",
            "_view_count": null,
            "_view_module": "@jupyter-widgets/base",
            "_view_module_version": "1.2.0",
            "_view_name": "LayoutView",
            "align_content": null,
            "align_items": null,
            "align_self": null,
            "border": null,
            "bottom": null,
            "display": null,
            "flex": null,
            "flex_flow": null,
            "grid_area": null,
            "grid_auto_columns": null,
            "grid_auto_flow": null,
            "grid_auto_rows": null,
            "grid_column": null,
            "grid_gap": null,
            "grid_row": null,
            "grid_template_areas": null,
            "grid_template_columns": null,
            "grid_template_rows": null,
            "height": null,
            "justify_content": null,
            "justify_items": null,
            "left": null,
            "margin": null,
            "max_height": null,
            "max_width": null,
            "min_height": null,
            "min_width": null,
            "object_fit": null,
            "object_position": null,
            "order": null,
            "overflow": null,
            "overflow_x": null,
            "overflow_y": null,
            "padding": null,
            "right": null,
            "top": null,
            "visibility": null,
            "width": null
          }
        },
        "2a7f4ae0e73f43edaca0d2753bd2ba49": {
          "model_module": "@jupyter-widgets/base",
          "model_name": "LayoutModel",
          "model_module_version": "1.2.0",
          "state": {
            "_model_module": "@jupyter-widgets/base",
            "_model_module_version": "1.2.0",
            "_model_name": "LayoutModel",
            "_view_count": null,
            "_view_module": "@jupyter-widgets/base",
            "_view_module_version": "1.2.0",
            "_view_name": "LayoutView",
            "align_content": null,
            "align_items": null,
            "align_self": null,
            "border": null,
            "bottom": null,
            "display": null,
            "flex": null,
            "flex_flow": null,
            "grid_area": null,
            "grid_auto_columns": null,
            "grid_auto_flow": null,
            "grid_auto_rows": null,
            "grid_column": null,
            "grid_gap": null,
            "grid_row": null,
            "grid_template_areas": null,
            "grid_template_columns": null,
            "grid_template_rows": null,
            "height": null,
            "justify_content": null,
            "justify_items": null,
            "left": null,
            "margin": null,
            "max_height": null,
            "max_width": null,
            "min_height": null,
            "min_width": null,
            "object_fit": null,
            "object_position": null,
            "order": null,
            "overflow": null,
            "overflow_x": null,
            "overflow_y": null,
            "padding": null,
            "right": null,
            "top": null,
            "visibility": null,
            "width": null
          }
        },
        "5658fb42bff74f7590615b5421de34c6": {
          "model_module": "@jupyter-widgets/controls",
          "model_name": "DescriptionStyleModel",
          "model_module_version": "1.5.0",
          "state": {
            "_model_module": "@jupyter-widgets/controls",
            "_model_module_version": "1.5.0",
            "_model_name": "DescriptionStyleModel",
            "_view_count": null,
            "_view_module": "@jupyter-widgets/base",
            "_view_module_version": "1.2.0",
            "_view_name": "StyleView",
            "description_width": ""
          }
        },
        "929ef208bcb743e7a9e838f01b7dd951": {
          "model_module": "@jupyter-widgets/base",
          "model_name": "LayoutModel",
          "model_module_version": "1.2.0",
          "state": {
            "_model_module": "@jupyter-widgets/base",
            "_model_module_version": "1.2.0",
            "_model_name": "LayoutModel",
            "_view_count": null,
            "_view_module": "@jupyter-widgets/base",
            "_view_module_version": "1.2.0",
            "_view_name": "LayoutView",
            "align_content": null,
            "align_items": null,
            "align_self": null,
            "border": null,
            "bottom": null,
            "display": null,
            "flex": null,
            "flex_flow": null,
            "grid_area": null,
            "grid_auto_columns": null,
            "grid_auto_flow": null,
            "grid_auto_rows": null,
            "grid_column": null,
            "grid_gap": null,
            "grid_row": null,
            "grid_template_areas": null,
            "grid_template_columns": null,
            "grid_template_rows": null,
            "height": null,
            "justify_content": null,
            "justify_items": null,
            "left": null,
            "margin": null,
            "max_height": null,
            "max_width": null,
            "min_height": null,
            "min_width": null,
            "object_fit": null,
            "object_position": null,
            "order": null,
            "overflow": null,
            "overflow_x": null,
            "overflow_y": null,
            "padding": null,
            "right": null,
            "top": null,
            "visibility": null,
            "width": "20px"
          }
        },
        "6ddd6fee561b4ba5a38e0d293009a5f5": {
          "model_module": "@jupyter-widgets/controls",
          "model_name": "ProgressStyleModel",
          "model_module_version": "1.5.0",
          "state": {
            "_model_module": "@jupyter-widgets/controls",
            "_model_module_version": "1.5.0",
            "_model_name": "ProgressStyleModel",
            "_view_count": null,
            "_view_module": "@jupyter-widgets/base",
            "_view_module_version": "1.2.0",
            "_view_name": "StyleView",
            "bar_color": null,
            "description_width": ""
          }
        },
        "db7cdb6bd2bd49a9a7cfa444a5d0171e": {
          "model_module": "@jupyter-widgets/base",
          "model_name": "LayoutModel",
          "model_module_version": "1.2.0",
          "state": {
            "_model_module": "@jupyter-widgets/base",
            "_model_module_version": "1.2.0",
            "_model_name": "LayoutModel",
            "_view_count": null,
            "_view_module": "@jupyter-widgets/base",
            "_view_module_version": "1.2.0",
            "_view_name": "LayoutView",
            "align_content": null,
            "align_items": null,
            "align_self": null,
            "border": null,
            "bottom": null,
            "display": null,
            "flex": null,
            "flex_flow": null,
            "grid_area": null,
            "grid_auto_columns": null,
            "grid_auto_flow": null,
            "grid_auto_rows": null,
            "grid_column": null,
            "grid_gap": null,
            "grid_row": null,
            "grid_template_areas": null,
            "grid_template_columns": null,
            "grid_template_rows": null,
            "height": null,
            "justify_content": null,
            "justify_items": null,
            "left": null,
            "margin": null,
            "max_height": null,
            "max_width": null,
            "min_height": null,
            "min_width": null,
            "object_fit": null,
            "object_position": null,
            "order": null,
            "overflow": null,
            "overflow_x": null,
            "overflow_y": null,
            "padding": null,
            "right": null,
            "top": null,
            "visibility": null,
            "width": null
          }
        },
        "998e92650ef049e39250de99c650a4ee": {
          "model_module": "@jupyter-widgets/controls",
          "model_name": "DescriptionStyleModel",
          "model_module_version": "1.5.0",
          "state": {
            "_model_module": "@jupyter-widgets/controls",
            "_model_module_version": "1.5.0",
            "_model_name": "DescriptionStyleModel",
            "_view_count": null,
            "_view_module": "@jupyter-widgets/base",
            "_view_module_version": "1.2.0",
            "_view_name": "StyleView",
            "description_width": ""
          }
        },
        "fb69af3fd480472caac1e4063a02ac9a": {
          "model_module": "@jupyter-widgets/controls",
          "model_name": "HBoxModel",
          "model_module_version": "1.5.0",
          "state": {
            "_dom_classes": [],
            "_model_module": "@jupyter-widgets/controls",
            "_model_module_version": "1.5.0",
            "_model_name": "HBoxModel",
            "_view_count": null,
            "_view_module": "@jupyter-widgets/controls",
            "_view_module_version": "1.5.0",
            "_view_name": "HBoxView",
            "box_style": "",
            "children": [
              "IPY_MODEL_23fb2055217c4bcc8f9a52e4d789cac1",
              "IPY_MODEL_fb78080e65e04d159d9226cf58c8f0d7",
              "IPY_MODEL_69a046f216a449678e8deaf250d5df09"
            ],
            "layout": "IPY_MODEL_d1120f8d541b40c38bf848ee4baed9a3"
          }
        },
        "23fb2055217c4bcc8f9a52e4d789cac1": {
          "model_module": "@jupyter-widgets/controls",
          "model_name": "HTMLModel",
          "model_module_version": "1.5.0",
          "state": {
            "_dom_classes": [],
            "_model_module": "@jupyter-widgets/controls",
            "_model_module_version": "1.5.0",
            "_model_name": "HTMLModel",
            "_view_count": null,
            "_view_module": "@jupyter-widgets/controls",
            "_view_module_version": "1.5.0",
            "_view_name": "HTMLView",
            "description": "",
            "description_tooltip": null,
            "layout": "IPY_MODEL_21a33887d65945b4a230a2794c9eae43",
            "placeholder": "​",
            "style": "IPY_MODEL_5e3def375c7944c0bcca906790ec79b0",
            "value": "Generating splits...: 100%"
          }
        },
        "fb78080e65e04d159d9226cf58c8f0d7": {
          "model_module": "@jupyter-widgets/controls",
          "model_name": "FloatProgressModel",
          "model_module_version": "1.5.0",
          "state": {
            "_dom_classes": [],
            "_model_module": "@jupyter-widgets/controls",
            "_model_module_version": "1.5.0",
            "_model_name": "FloatProgressModel",
            "_view_count": null,
            "_view_module": "@jupyter-widgets/controls",
            "_view_module_version": "1.5.0",
            "_view_name": "ProgressView",
            "bar_style": "",
            "description": "",
            "description_tooltip": null,
            "layout": "IPY_MODEL_cdbc34c776524a36bd2bf824b6cf0dcb",
            "max": 2,
            "min": 0,
            "orientation": "horizontal",
            "style": "IPY_MODEL_2ac367795fa4405285803605b957fc15",
            "value": 2
          }
        },
        "69a046f216a449678e8deaf250d5df09": {
          "model_module": "@jupyter-widgets/controls",
          "model_name": "HTMLModel",
          "model_module_version": "1.5.0",
          "state": {
            "_dom_classes": [],
            "_model_module": "@jupyter-widgets/controls",
            "_model_module_version": "1.5.0",
            "_model_name": "HTMLModel",
            "_view_count": null,
            "_view_module": "@jupyter-widgets/controls",
            "_view_module_version": "1.5.0",
            "_view_name": "HTMLView",
            "description": "",
            "description_tooltip": null,
            "layout": "IPY_MODEL_279e287f6565440fb536ca725c7882b4",
            "placeholder": "​",
            "style": "IPY_MODEL_97f66b0683ff43f69194d97e8ca8df8a",
            "value": " 2/2 [00:56&lt;00:00, 25.01s/ splits]"
          }
        },
        "d1120f8d541b40c38bf848ee4baed9a3": {
          "model_module": "@jupyter-widgets/base",
          "model_name": "LayoutModel",
          "model_module_version": "1.2.0",
          "state": {
            "_model_module": "@jupyter-widgets/base",
            "_model_module_version": "1.2.0",
            "_model_name": "LayoutModel",
            "_view_count": null,
            "_view_module": "@jupyter-widgets/base",
            "_view_module_version": "1.2.0",
            "_view_name": "LayoutView",
            "align_content": null,
            "align_items": null,
            "align_self": null,
            "border": null,
            "bottom": null,
            "display": null,
            "flex": null,
            "flex_flow": null,
            "grid_area": null,
            "grid_auto_columns": null,
            "grid_auto_flow": null,
            "grid_auto_rows": null,
            "grid_column": null,
            "grid_gap": null,
            "grid_row": null,
            "grid_template_areas": null,
            "grid_template_columns": null,
            "grid_template_rows": null,
            "height": null,
            "justify_content": null,
            "justify_items": null,
            "left": null,
            "margin": null,
            "max_height": null,
            "max_width": null,
            "min_height": null,
            "min_width": null,
            "object_fit": null,
            "object_position": null,
            "order": null,
            "overflow": null,
            "overflow_x": null,
            "overflow_y": null,
            "padding": null,
            "right": null,
            "top": null,
            "visibility": "hidden",
            "width": null
          }
        },
        "21a33887d65945b4a230a2794c9eae43": {
          "model_module": "@jupyter-widgets/base",
          "model_name": "LayoutModel",
          "model_module_version": "1.2.0",
          "state": {
            "_model_module": "@jupyter-widgets/base",
            "_model_module_version": "1.2.0",
            "_model_name": "LayoutModel",
            "_view_count": null,
            "_view_module": "@jupyter-widgets/base",
            "_view_module_version": "1.2.0",
            "_view_name": "LayoutView",
            "align_content": null,
            "align_items": null,
            "align_self": null,
            "border": null,
            "bottom": null,
            "display": null,
            "flex": null,
            "flex_flow": null,
            "grid_area": null,
            "grid_auto_columns": null,
            "grid_auto_flow": null,
            "grid_auto_rows": null,
            "grid_column": null,
            "grid_gap": null,
            "grid_row": null,
            "grid_template_areas": null,
            "grid_template_columns": null,
            "grid_template_rows": null,
            "height": null,
            "justify_content": null,
            "justify_items": null,
            "left": null,
            "margin": null,
            "max_height": null,
            "max_width": null,
            "min_height": null,
            "min_width": null,
            "object_fit": null,
            "object_position": null,
            "order": null,
            "overflow": null,
            "overflow_x": null,
            "overflow_y": null,
            "padding": null,
            "right": null,
            "top": null,
            "visibility": null,
            "width": null
          }
        },
        "5e3def375c7944c0bcca906790ec79b0": {
          "model_module": "@jupyter-widgets/controls",
          "model_name": "DescriptionStyleModel",
          "model_module_version": "1.5.0",
          "state": {
            "_model_module": "@jupyter-widgets/controls",
            "_model_module_version": "1.5.0",
            "_model_name": "DescriptionStyleModel",
            "_view_count": null,
            "_view_module": "@jupyter-widgets/base",
            "_view_module_version": "1.2.0",
            "_view_name": "StyleView",
            "description_width": ""
          }
        },
        "cdbc34c776524a36bd2bf824b6cf0dcb": {
          "model_module": "@jupyter-widgets/base",
          "model_name": "LayoutModel",
          "model_module_version": "1.2.0",
          "state": {
            "_model_module": "@jupyter-widgets/base",
            "_model_module_version": "1.2.0",
            "_model_name": "LayoutModel",
            "_view_count": null,
            "_view_module": "@jupyter-widgets/base",
            "_view_module_version": "1.2.0",
            "_view_name": "LayoutView",
            "align_content": null,
            "align_items": null,
            "align_self": null,
            "border": null,
            "bottom": null,
            "display": null,
            "flex": null,
            "flex_flow": null,
            "grid_area": null,
            "grid_auto_columns": null,
            "grid_auto_flow": null,
            "grid_auto_rows": null,
            "grid_column": null,
            "grid_gap": null,
            "grid_row": null,
            "grid_template_areas": null,
            "grid_template_columns": null,
            "grid_template_rows": null,
            "height": null,
            "justify_content": null,
            "justify_items": null,
            "left": null,
            "margin": null,
            "max_height": null,
            "max_width": null,
            "min_height": null,
            "min_width": null,
            "object_fit": null,
            "object_position": null,
            "order": null,
            "overflow": null,
            "overflow_x": null,
            "overflow_y": null,
            "padding": null,
            "right": null,
            "top": null,
            "visibility": null,
            "width": null
          }
        },
        "2ac367795fa4405285803605b957fc15": {
          "model_module": "@jupyter-widgets/controls",
          "model_name": "ProgressStyleModel",
          "model_module_version": "1.5.0",
          "state": {
            "_model_module": "@jupyter-widgets/controls",
            "_model_module_version": "1.5.0",
            "_model_name": "ProgressStyleModel",
            "_view_count": null,
            "_view_module": "@jupyter-widgets/base",
            "_view_module_version": "1.2.0",
            "_view_name": "StyleView",
            "bar_color": null,
            "description_width": ""
          }
        },
        "279e287f6565440fb536ca725c7882b4": {
          "model_module": "@jupyter-widgets/base",
          "model_name": "LayoutModel",
          "model_module_version": "1.2.0",
          "state": {
            "_model_module": "@jupyter-widgets/base",
            "_model_module_version": "1.2.0",
            "_model_name": "LayoutModel",
            "_view_count": null,
            "_view_module": "@jupyter-widgets/base",
            "_view_module_version": "1.2.0",
            "_view_name": "LayoutView",
            "align_content": null,
            "align_items": null,
            "align_self": null,
            "border": null,
            "bottom": null,
            "display": null,
            "flex": null,
            "flex_flow": null,
            "grid_area": null,
            "grid_auto_columns": null,
            "grid_auto_flow": null,
            "grid_auto_rows": null,
            "grid_column": null,
            "grid_gap": null,
            "grid_row": null,
            "grid_template_areas": null,
            "grid_template_columns": null,
            "grid_template_rows": null,
            "height": null,
            "justify_content": null,
            "justify_items": null,
            "left": null,
            "margin": null,
            "max_height": null,
            "max_width": null,
            "min_height": null,
            "min_width": null,
            "object_fit": null,
            "object_position": null,
            "order": null,
            "overflow": null,
            "overflow_x": null,
            "overflow_y": null,
            "padding": null,
            "right": null,
            "top": null,
            "visibility": null,
            "width": null
          }
        },
        "97f66b0683ff43f69194d97e8ca8df8a": {
          "model_module": "@jupyter-widgets/controls",
          "model_name": "DescriptionStyleModel",
          "model_module_version": "1.5.0",
          "state": {
            "_model_module": "@jupyter-widgets/controls",
            "_model_module_version": "1.5.0",
            "_model_name": "DescriptionStyleModel",
            "_view_count": null,
            "_view_module": "@jupyter-widgets/base",
            "_view_module_version": "1.2.0",
            "_view_name": "StyleView",
            "description_width": ""
          }
        },
        "0d8e8d3774c546d495d51790fbfb3006": {
          "model_module": "@jupyter-widgets/controls",
          "model_name": "HBoxModel",
          "model_module_version": "1.5.0",
          "state": {
            "_dom_classes": [],
            "_model_module": "@jupyter-widgets/controls",
            "_model_module_version": "1.5.0",
            "_model_name": "HBoxModel",
            "_view_count": null,
            "_view_module": "@jupyter-widgets/controls",
            "_view_module_version": "1.5.0",
            "_view_name": "HBoxView",
            "box_style": "",
            "children": [
              "IPY_MODEL_c1600fe7f3634a8c9904264dd9c7ea8d",
              "IPY_MODEL_56a54d6555ec48f59c319c92ea6ec452",
              "IPY_MODEL_f89df4e2979e43cc9a502f5f0f8c0ee6"
            ],
            "layout": "IPY_MODEL_f6ccd08b18c44c519e79a2e5b4ac6eb6"
          }
        },
        "c1600fe7f3634a8c9904264dd9c7ea8d": {
          "model_module": "@jupyter-widgets/controls",
          "model_name": "HTMLModel",
          "model_module_version": "1.5.0",
          "state": {
            "_dom_classes": [],
            "_model_module": "@jupyter-widgets/controls",
            "_model_module_version": "1.5.0",
            "_model_name": "HTMLModel",
            "_view_count": null,
            "_view_module": "@jupyter-widgets/controls",
            "_view_module_version": "1.5.0",
            "_view_name": "HTMLView",
            "description": "",
            "description_tooltip": null,
            "layout": "IPY_MODEL_392875733262482a8c9330f7cce28659",
            "placeholder": "​",
            "style": "IPY_MODEL_cede8b8dd1bf4883bf6a45a61e02d34f",
            "value": "Generating train examples...: "
          }
        },
        "56a54d6555ec48f59c319c92ea6ec452": {
          "model_module": "@jupyter-widgets/controls",
          "model_name": "FloatProgressModel",
          "model_module_version": "1.5.0",
          "state": {
            "_dom_classes": [],
            "_model_module": "@jupyter-widgets/controls",
            "_model_module_version": "1.5.0",
            "_model_name": "FloatProgressModel",
            "_view_count": null,
            "_view_module": "@jupyter-widgets/controls",
            "_view_module_version": "1.5.0",
            "_view_name": "ProgressView",
            "bar_style": "info",
            "description": "",
            "description_tooltip": null,
            "layout": "IPY_MODEL_9580164878ce486e8f8408efb9487c63",
            "max": 1,
            "min": 0,
            "orientation": "horizontal",
            "style": "IPY_MODEL_b0d2627ff0f44a13a4c4d34814b34e6b",
            "value": 1
          }
        },
        "f89df4e2979e43cc9a502f5f0f8c0ee6": {
          "model_module": "@jupyter-widgets/controls",
          "model_name": "HTMLModel",
          "model_module_version": "1.5.0",
          "state": {
            "_dom_classes": [],
            "_model_module": "@jupyter-widgets/controls",
            "_model_module_version": "1.5.0",
            "_model_name": "HTMLModel",
            "_view_count": null,
            "_view_module": "@jupyter-widgets/controls",
            "_view_module_version": "1.5.0",
            "_view_name": "HTMLView",
            "description": "",
            "description_tooltip": null,
            "layout": "IPY_MODEL_c570901bcb824da497ba786803b1806c",
            "placeholder": "​",
            "style": "IPY_MODEL_55e0d4042cde4743b0f71aca265747f2",
            "value": " 49941/? [00:47&lt;00:00, 947.37 examples/s]"
          }
        },
        "f6ccd08b18c44c519e79a2e5b4ac6eb6": {
          "model_module": "@jupyter-widgets/base",
          "model_name": "LayoutModel",
          "model_module_version": "1.2.0",
          "state": {
            "_model_module": "@jupyter-widgets/base",
            "_model_module_version": "1.2.0",
            "_model_name": "LayoutModel",
            "_view_count": null,
            "_view_module": "@jupyter-widgets/base",
            "_view_module_version": "1.2.0",
            "_view_name": "LayoutView",
            "align_content": null,
            "align_items": null,
            "align_self": null,
            "border": null,
            "bottom": null,
            "display": null,
            "flex": null,
            "flex_flow": null,
            "grid_area": null,
            "grid_auto_columns": null,
            "grid_auto_flow": null,
            "grid_auto_rows": null,
            "grid_column": null,
            "grid_gap": null,
            "grid_row": null,
            "grid_template_areas": null,
            "grid_template_columns": null,
            "grid_template_rows": null,
            "height": null,
            "justify_content": null,
            "justify_items": null,
            "left": null,
            "margin": null,
            "max_height": null,
            "max_width": null,
            "min_height": null,
            "min_width": null,
            "object_fit": null,
            "object_position": null,
            "order": null,
            "overflow": null,
            "overflow_x": null,
            "overflow_y": null,
            "padding": null,
            "right": null,
            "top": null,
            "visibility": "hidden",
            "width": null
          }
        },
        "392875733262482a8c9330f7cce28659": {
          "model_module": "@jupyter-widgets/base",
          "model_name": "LayoutModel",
          "model_module_version": "1.2.0",
          "state": {
            "_model_module": "@jupyter-widgets/base",
            "_model_module_version": "1.2.0",
            "_model_name": "LayoutModel",
            "_view_count": null,
            "_view_module": "@jupyter-widgets/base",
            "_view_module_version": "1.2.0",
            "_view_name": "LayoutView",
            "align_content": null,
            "align_items": null,
            "align_self": null,
            "border": null,
            "bottom": null,
            "display": null,
            "flex": null,
            "flex_flow": null,
            "grid_area": null,
            "grid_auto_columns": null,
            "grid_auto_flow": null,
            "grid_auto_rows": null,
            "grid_column": null,
            "grid_gap": null,
            "grid_row": null,
            "grid_template_areas": null,
            "grid_template_columns": null,
            "grid_template_rows": null,
            "height": null,
            "justify_content": null,
            "justify_items": null,
            "left": null,
            "margin": null,
            "max_height": null,
            "max_width": null,
            "min_height": null,
            "min_width": null,
            "object_fit": null,
            "object_position": null,
            "order": null,
            "overflow": null,
            "overflow_x": null,
            "overflow_y": null,
            "padding": null,
            "right": null,
            "top": null,
            "visibility": null,
            "width": null
          }
        },
        "cede8b8dd1bf4883bf6a45a61e02d34f": {
          "model_module": "@jupyter-widgets/controls",
          "model_name": "DescriptionStyleModel",
          "model_module_version": "1.5.0",
          "state": {
            "_model_module": "@jupyter-widgets/controls",
            "_model_module_version": "1.5.0",
            "_model_name": "DescriptionStyleModel",
            "_view_count": null,
            "_view_module": "@jupyter-widgets/base",
            "_view_module_version": "1.2.0",
            "_view_name": "StyleView",
            "description_width": ""
          }
        },
        "9580164878ce486e8f8408efb9487c63": {
          "model_module": "@jupyter-widgets/base",
          "model_name": "LayoutModel",
          "model_module_version": "1.2.0",
          "state": {
            "_model_module": "@jupyter-widgets/base",
            "_model_module_version": "1.2.0",
            "_model_name": "LayoutModel",
            "_view_count": null,
            "_view_module": "@jupyter-widgets/base",
            "_view_module_version": "1.2.0",
            "_view_name": "LayoutView",
            "align_content": null,
            "align_items": null,
            "align_self": null,
            "border": null,
            "bottom": null,
            "display": null,
            "flex": null,
            "flex_flow": null,
            "grid_area": null,
            "grid_auto_columns": null,
            "grid_auto_flow": null,
            "grid_auto_rows": null,
            "grid_column": null,
            "grid_gap": null,
            "grid_row": null,
            "grid_template_areas": null,
            "grid_template_columns": null,
            "grid_template_rows": null,
            "height": null,
            "justify_content": null,
            "justify_items": null,
            "left": null,
            "margin": null,
            "max_height": null,
            "max_width": null,
            "min_height": null,
            "min_width": null,
            "object_fit": null,
            "object_position": null,
            "order": null,
            "overflow": null,
            "overflow_x": null,
            "overflow_y": null,
            "padding": null,
            "right": null,
            "top": null,
            "visibility": null,
            "width": "20px"
          }
        },
        "b0d2627ff0f44a13a4c4d34814b34e6b": {
          "model_module": "@jupyter-widgets/controls",
          "model_name": "ProgressStyleModel",
          "model_module_version": "1.5.0",
          "state": {
            "_model_module": "@jupyter-widgets/controls",
            "_model_module_version": "1.5.0",
            "_model_name": "ProgressStyleModel",
            "_view_count": null,
            "_view_module": "@jupyter-widgets/base",
            "_view_module_version": "1.2.0",
            "_view_name": "StyleView",
            "bar_color": null,
            "description_width": ""
          }
        },
        "c570901bcb824da497ba786803b1806c": {
          "model_module": "@jupyter-widgets/base",
          "model_name": "LayoutModel",
          "model_module_version": "1.2.0",
          "state": {
            "_model_module": "@jupyter-widgets/base",
            "_model_module_version": "1.2.0",
            "_model_name": "LayoutModel",
            "_view_count": null,
            "_view_module": "@jupyter-widgets/base",
            "_view_module_version": "1.2.0",
            "_view_name": "LayoutView",
            "align_content": null,
            "align_items": null,
            "align_self": null,
            "border": null,
            "bottom": null,
            "display": null,
            "flex": null,
            "flex_flow": null,
            "grid_area": null,
            "grid_auto_columns": null,
            "grid_auto_flow": null,
            "grid_auto_rows": null,
            "grid_column": null,
            "grid_gap": null,
            "grid_row": null,
            "grid_template_areas": null,
            "grid_template_columns": null,
            "grid_template_rows": null,
            "height": null,
            "justify_content": null,
            "justify_items": null,
            "left": null,
            "margin": null,
            "max_height": null,
            "max_width": null,
            "min_height": null,
            "min_width": null,
            "object_fit": null,
            "object_position": null,
            "order": null,
            "overflow": null,
            "overflow_x": null,
            "overflow_y": null,
            "padding": null,
            "right": null,
            "top": null,
            "visibility": null,
            "width": null
          }
        },
        "55e0d4042cde4743b0f71aca265747f2": {
          "model_module": "@jupyter-widgets/controls",
          "model_name": "DescriptionStyleModel",
          "model_module_version": "1.5.0",
          "state": {
            "_model_module": "@jupyter-widgets/controls",
            "_model_module_version": "1.5.0",
            "_model_name": "DescriptionStyleModel",
            "_view_count": null,
            "_view_module": "@jupyter-widgets/base",
            "_view_module_version": "1.2.0",
            "_view_name": "StyleView",
            "description_width": ""
          }
        },
        "5fb88988b68840bc8265966007667d86": {
          "model_module": "@jupyter-widgets/controls",
          "model_name": "HBoxModel",
          "model_module_version": "1.5.0",
          "state": {
            "_dom_classes": [],
            "_model_module": "@jupyter-widgets/controls",
            "_model_module_version": "1.5.0",
            "_model_name": "HBoxModel",
            "_view_count": null,
            "_view_module": "@jupyter-widgets/controls",
            "_view_module_version": "1.5.0",
            "_view_name": "HBoxView",
            "box_style": "",
            "children": [
              "IPY_MODEL_8846273f76964c2aa3986f8b0c78cbeb",
              "IPY_MODEL_488d41349adc4c5ba096ab5e9444c9a8",
              "IPY_MODEL_cf585843ea5640568cc9a0f12f3ee0d0"
            ],
            "layout": "IPY_MODEL_b1b6a60078f34823ada8255018c812a2"
          }
        },
        "8846273f76964c2aa3986f8b0c78cbeb": {
          "model_module": "@jupyter-widgets/controls",
          "model_name": "HTMLModel",
          "model_module_version": "1.5.0",
          "state": {
            "_dom_classes": [],
            "_model_module": "@jupyter-widgets/controls",
            "_model_module_version": "1.5.0",
            "_model_name": "HTMLModel",
            "_view_count": null,
            "_view_module": "@jupyter-widgets/controls",
            "_view_module_version": "1.5.0",
            "_view_name": "HTMLView",
            "description": "",
            "description_tooltip": null,
            "layout": "IPY_MODEL_4796bdc119ca456d813be30a54b82462",
            "placeholder": "​",
            "style": "IPY_MODEL_171dd37e7ec44433bf682d3c545b8b12",
            "value": "Shuffling /root/tensorflow_datasets/cifar10/3.0.2.incomplete9IBA6J/cifar10-train.tfrecord*...:  94%"
          }
        },
        "488d41349adc4c5ba096ab5e9444c9a8": {
          "model_module": "@jupyter-widgets/controls",
          "model_name": "FloatProgressModel",
          "model_module_version": "1.5.0",
          "state": {
            "_dom_classes": [],
            "_model_module": "@jupyter-widgets/controls",
            "_model_module_version": "1.5.0",
            "_model_name": "FloatProgressModel",
            "_view_count": null,
            "_view_module": "@jupyter-widgets/controls",
            "_view_module_version": "1.5.0",
            "_view_name": "ProgressView",
            "bar_style": "",
            "description": "",
            "description_tooltip": null,
            "layout": "IPY_MODEL_7fa0b468e1f7476ea0a2e9056b993faa",
            "max": 50000,
            "min": 0,
            "orientation": "horizontal",
            "style": "IPY_MODEL_4b78b0a57af44defa2665c844f545d75",
            "value": 50000
          }
        },
        "cf585843ea5640568cc9a0f12f3ee0d0": {
          "model_module": "@jupyter-widgets/controls",
          "model_name": "HTMLModel",
          "model_module_version": "1.5.0",
          "state": {
            "_dom_classes": [],
            "_model_module": "@jupyter-widgets/controls",
            "_model_module_version": "1.5.0",
            "_model_name": "HTMLModel",
            "_view_count": null,
            "_view_module": "@jupyter-widgets/controls",
            "_view_module_version": "1.5.0",
            "_view_name": "HTMLView",
            "description": "",
            "description_tooltip": null,
            "layout": "IPY_MODEL_40bb8b3d6e324dc19cdeaaca5c28116a",
            "placeholder": "​",
            "style": "IPY_MODEL_9287429d644c45188726911595e5fc9e",
            "value": " 46830/50000 [00:00&lt;00:00, 167003.80 examples/s]"
          }
        },
        "b1b6a60078f34823ada8255018c812a2": {
          "model_module": "@jupyter-widgets/base",
          "model_name": "LayoutModel",
          "model_module_version": "1.2.0",
          "state": {
            "_model_module": "@jupyter-widgets/base",
            "_model_module_version": "1.2.0",
            "_model_name": "LayoutModel",
            "_view_count": null,
            "_view_module": "@jupyter-widgets/base",
            "_view_module_version": "1.2.0",
            "_view_name": "LayoutView",
            "align_content": null,
            "align_items": null,
            "align_self": null,
            "border": null,
            "bottom": null,
            "display": null,
            "flex": null,
            "flex_flow": null,
            "grid_area": null,
            "grid_auto_columns": null,
            "grid_auto_flow": null,
            "grid_auto_rows": null,
            "grid_column": null,
            "grid_gap": null,
            "grid_row": null,
            "grid_template_areas": null,
            "grid_template_columns": null,
            "grid_template_rows": null,
            "height": null,
            "justify_content": null,
            "justify_items": null,
            "left": null,
            "margin": null,
            "max_height": null,
            "max_width": null,
            "min_height": null,
            "min_width": null,
            "object_fit": null,
            "object_position": null,
            "order": null,
            "overflow": null,
            "overflow_x": null,
            "overflow_y": null,
            "padding": null,
            "right": null,
            "top": null,
            "visibility": "hidden",
            "width": null
          }
        },
        "4796bdc119ca456d813be30a54b82462": {
          "model_module": "@jupyter-widgets/base",
          "model_name": "LayoutModel",
          "model_module_version": "1.2.0",
          "state": {
            "_model_module": "@jupyter-widgets/base",
            "_model_module_version": "1.2.0",
            "_model_name": "LayoutModel",
            "_view_count": null,
            "_view_module": "@jupyter-widgets/base",
            "_view_module_version": "1.2.0",
            "_view_name": "LayoutView",
            "align_content": null,
            "align_items": null,
            "align_self": null,
            "border": null,
            "bottom": null,
            "display": null,
            "flex": null,
            "flex_flow": null,
            "grid_area": null,
            "grid_auto_columns": null,
            "grid_auto_flow": null,
            "grid_auto_rows": null,
            "grid_column": null,
            "grid_gap": null,
            "grid_row": null,
            "grid_template_areas": null,
            "grid_template_columns": null,
            "grid_template_rows": null,
            "height": null,
            "justify_content": null,
            "justify_items": null,
            "left": null,
            "margin": null,
            "max_height": null,
            "max_width": null,
            "min_height": null,
            "min_width": null,
            "object_fit": null,
            "object_position": null,
            "order": null,
            "overflow": null,
            "overflow_x": null,
            "overflow_y": null,
            "padding": null,
            "right": null,
            "top": null,
            "visibility": null,
            "width": null
          }
        },
        "171dd37e7ec44433bf682d3c545b8b12": {
          "model_module": "@jupyter-widgets/controls",
          "model_name": "DescriptionStyleModel",
          "model_module_version": "1.5.0",
          "state": {
            "_model_module": "@jupyter-widgets/controls",
            "_model_module_version": "1.5.0",
            "_model_name": "DescriptionStyleModel",
            "_view_count": null,
            "_view_module": "@jupyter-widgets/base",
            "_view_module_version": "1.2.0",
            "_view_name": "StyleView",
            "description_width": ""
          }
        },
        "7fa0b468e1f7476ea0a2e9056b993faa": {
          "model_module": "@jupyter-widgets/base",
          "model_name": "LayoutModel",
          "model_module_version": "1.2.0",
          "state": {
            "_model_module": "@jupyter-widgets/base",
            "_model_module_version": "1.2.0",
            "_model_name": "LayoutModel",
            "_view_count": null,
            "_view_module": "@jupyter-widgets/base",
            "_view_module_version": "1.2.0",
            "_view_name": "LayoutView",
            "align_content": null,
            "align_items": null,
            "align_self": null,
            "border": null,
            "bottom": null,
            "display": null,
            "flex": null,
            "flex_flow": null,
            "grid_area": null,
            "grid_auto_columns": null,
            "grid_auto_flow": null,
            "grid_auto_rows": null,
            "grid_column": null,
            "grid_gap": null,
            "grid_row": null,
            "grid_template_areas": null,
            "grid_template_columns": null,
            "grid_template_rows": null,
            "height": null,
            "justify_content": null,
            "justify_items": null,
            "left": null,
            "margin": null,
            "max_height": null,
            "max_width": null,
            "min_height": null,
            "min_width": null,
            "object_fit": null,
            "object_position": null,
            "order": null,
            "overflow": null,
            "overflow_x": null,
            "overflow_y": null,
            "padding": null,
            "right": null,
            "top": null,
            "visibility": null,
            "width": null
          }
        },
        "4b78b0a57af44defa2665c844f545d75": {
          "model_module": "@jupyter-widgets/controls",
          "model_name": "ProgressStyleModel",
          "model_module_version": "1.5.0",
          "state": {
            "_model_module": "@jupyter-widgets/controls",
            "_model_module_version": "1.5.0",
            "_model_name": "ProgressStyleModel",
            "_view_count": null,
            "_view_module": "@jupyter-widgets/base",
            "_view_module_version": "1.2.0",
            "_view_name": "StyleView",
            "bar_color": null,
            "description_width": ""
          }
        },
        "40bb8b3d6e324dc19cdeaaca5c28116a": {
          "model_module": "@jupyter-widgets/base",
          "model_name": "LayoutModel",
          "model_module_version": "1.2.0",
          "state": {
            "_model_module": "@jupyter-widgets/base",
            "_model_module_version": "1.2.0",
            "_model_name": "LayoutModel",
            "_view_count": null,
            "_view_module": "@jupyter-widgets/base",
            "_view_module_version": "1.2.0",
            "_view_name": "LayoutView",
            "align_content": null,
            "align_items": null,
            "align_self": null,
            "border": null,
            "bottom": null,
            "display": null,
            "flex": null,
            "flex_flow": null,
            "grid_area": null,
            "grid_auto_columns": null,
            "grid_auto_flow": null,
            "grid_auto_rows": null,
            "grid_column": null,
            "grid_gap": null,
            "grid_row": null,
            "grid_template_areas": null,
            "grid_template_columns": null,
            "grid_template_rows": null,
            "height": null,
            "justify_content": null,
            "justify_items": null,
            "left": null,
            "margin": null,
            "max_height": null,
            "max_width": null,
            "min_height": null,
            "min_width": null,
            "object_fit": null,
            "object_position": null,
            "order": null,
            "overflow": null,
            "overflow_x": null,
            "overflow_y": null,
            "padding": null,
            "right": null,
            "top": null,
            "visibility": null,
            "width": null
          }
        },
        "9287429d644c45188726911595e5fc9e": {
          "model_module": "@jupyter-widgets/controls",
          "model_name": "DescriptionStyleModel",
          "model_module_version": "1.5.0",
          "state": {
            "_model_module": "@jupyter-widgets/controls",
            "_model_module_version": "1.5.0",
            "_model_name": "DescriptionStyleModel",
            "_view_count": null,
            "_view_module": "@jupyter-widgets/base",
            "_view_module_version": "1.2.0",
            "_view_name": "StyleView",
            "description_width": ""
          }
        },
        "2204438af2e348b39bc3e474cee9bbd0": {
          "model_module": "@jupyter-widgets/controls",
          "model_name": "HBoxModel",
          "model_module_version": "1.5.0",
          "state": {
            "_dom_classes": [],
            "_model_module": "@jupyter-widgets/controls",
            "_model_module_version": "1.5.0",
            "_model_name": "HBoxModel",
            "_view_count": null,
            "_view_module": "@jupyter-widgets/controls",
            "_view_module_version": "1.5.0",
            "_view_name": "HBoxView",
            "box_style": "",
            "children": [
              "IPY_MODEL_51e4b728aeef4bdf85c7df9a5c31fab0",
              "IPY_MODEL_c7cdbc4311c749df9c68c9e9daf9d5a7",
              "IPY_MODEL_71e14b3e30314322b6967aa3eb5a5735"
            ],
            "layout": "IPY_MODEL_41da98515947436e92eda4276153d709"
          }
        },
        "51e4b728aeef4bdf85c7df9a5c31fab0": {
          "model_module": "@jupyter-widgets/controls",
          "model_name": "HTMLModel",
          "model_module_version": "1.5.0",
          "state": {
            "_dom_classes": [],
            "_model_module": "@jupyter-widgets/controls",
            "_model_module_version": "1.5.0",
            "_model_name": "HTMLModel",
            "_view_count": null,
            "_view_module": "@jupyter-widgets/controls",
            "_view_module_version": "1.5.0",
            "_view_name": "HTMLView",
            "description": "",
            "description_tooltip": null,
            "layout": "IPY_MODEL_acb98db6c67f49658dce4ca85d89f383",
            "placeholder": "​",
            "style": "IPY_MODEL_d47fc39e64554722b7b84bbb91d79b12",
            "value": "Generating test examples...: "
          }
        },
        "c7cdbc4311c749df9c68c9e9daf9d5a7": {
          "model_module": "@jupyter-widgets/controls",
          "model_name": "FloatProgressModel",
          "model_module_version": "1.5.0",
          "state": {
            "_dom_classes": [],
            "_model_module": "@jupyter-widgets/controls",
            "_model_module_version": "1.5.0",
            "_model_name": "FloatProgressModel",
            "_view_count": null,
            "_view_module": "@jupyter-widgets/controls",
            "_view_module_version": "1.5.0",
            "_view_name": "ProgressView",
            "bar_style": "info",
            "description": "",
            "description_tooltip": null,
            "layout": "IPY_MODEL_37489ff0340142079c0777ff63b0ffc2",
            "max": 1,
            "min": 0,
            "orientation": "horizontal",
            "style": "IPY_MODEL_5310c4893bca49efb8e3eb0935d12e5d",
            "value": 1
          }
        },
        "71e14b3e30314322b6967aa3eb5a5735": {
          "model_module": "@jupyter-widgets/controls",
          "model_name": "HTMLModel",
          "model_module_version": "1.5.0",
          "state": {
            "_dom_classes": [],
            "_model_module": "@jupyter-widgets/controls",
            "_model_module_version": "1.5.0",
            "_model_name": "HTMLModel",
            "_view_count": null,
            "_view_module": "@jupyter-widgets/controls",
            "_view_module_version": "1.5.0",
            "_view_name": "HTMLView",
            "description": "",
            "description_tooltip": null,
            "layout": "IPY_MODEL_c49e8d3f15ba45c4bf36a7b9d3512aa8",
            "placeholder": "​",
            "style": "IPY_MODEL_c9238cb782f04f5cbb0d6b42a1b39171",
            "value": " 9887/? [00:08&lt;00:00, 1142.93 examples/s]"
          }
        },
        "41da98515947436e92eda4276153d709": {
          "model_module": "@jupyter-widgets/base",
          "model_name": "LayoutModel",
          "model_module_version": "1.2.0",
          "state": {
            "_model_module": "@jupyter-widgets/base",
            "_model_module_version": "1.2.0",
            "_model_name": "LayoutModel",
            "_view_count": null,
            "_view_module": "@jupyter-widgets/base",
            "_view_module_version": "1.2.0",
            "_view_name": "LayoutView",
            "align_content": null,
            "align_items": null,
            "align_self": null,
            "border": null,
            "bottom": null,
            "display": null,
            "flex": null,
            "flex_flow": null,
            "grid_area": null,
            "grid_auto_columns": null,
            "grid_auto_flow": null,
            "grid_auto_rows": null,
            "grid_column": null,
            "grid_gap": null,
            "grid_row": null,
            "grid_template_areas": null,
            "grid_template_columns": null,
            "grid_template_rows": null,
            "height": null,
            "justify_content": null,
            "justify_items": null,
            "left": null,
            "margin": null,
            "max_height": null,
            "max_width": null,
            "min_height": null,
            "min_width": null,
            "object_fit": null,
            "object_position": null,
            "order": null,
            "overflow": null,
            "overflow_x": null,
            "overflow_y": null,
            "padding": null,
            "right": null,
            "top": null,
            "visibility": "hidden",
            "width": null
          }
        },
        "acb98db6c67f49658dce4ca85d89f383": {
          "model_module": "@jupyter-widgets/base",
          "model_name": "LayoutModel",
          "model_module_version": "1.2.0",
          "state": {
            "_model_module": "@jupyter-widgets/base",
            "_model_module_version": "1.2.0",
            "_model_name": "LayoutModel",
            "_view_count": null,
            "_view_module": "@jupyter-widgets/base",
            "_view_module_version": "1.2.0",
            "_view_name": "LayoutView",
            "align_content": null,
            "align_items": null,
            "align_self": null,
            "border": null,
            "bottom": null,
            "display": null,
            "flex": null,
            "flex_flow": null,
            "grid_area": null,
            "grid_auto_columns": null,
            "grid_auto_flow": null,
            "grid_auto_rows": null,
            "grid_column": null,
            "grid_gap": null,
            "grid_row": null,
            "grid_template_areas": null,
            "grid_template_columns": null,
            "grid_template_rows": null,
            "height": null,
            "justify_content": null,
            "justify_items": null,
            "left": null,
            "margin": null,
            "max_height": null,
            "max_width": null,
            "min_height": null,
            "min_width": null,
            "object_fit": null,
            "object_position": null,
            "order": null,
            "overflow": null,
            "overflow_x": null,
            "overflow_y": null,
            "padding": null,
            "right": null,
            "top": null,
            "visibility": null,
            "width": null
          }
        },
        "d47fc39e64554722b7b84bbb91d79b12": {
          "model_module": "@jupyter-widgets/controls",
          "model_name": "DescriptionStyleModel",
          "model_module_version": "1.5.0",
          "state": {
            "_model_module": "@jupyter-widgets/controls",
            "_model_module_version": "1.5.0",
            "_model_name": "DescriptionStyleModel",
            "_view_count": null,
            "_view_module": "@jupyter-widgets/base",
            "_view_module_version": "1.2.0",
            "_view_name": "StyleView",
            "description_width": ""
          }
        },
        "37489ff0340142079c0777ff63b0ffc2": {
          "model_module": "@jupyter-widgets/base",
          "model_name": "LayoutModel",
          "model_module_version": "1.2.0",
          "state": {
            "_model_module": "@jupyter-widgets/base",
            "_model_module_version": "1.2.0",
            "_model_name": "LayoutModel",
            "_view_count": null,
            "_view_module": "@jupyter-widgets/base",
            "_view_module_version": "1.2.0",
            "_view_name": "LayoutView",
            "align_content": null,
            "align_items": null,
            "align_self": null,
            "border": null,
            "bottom": null,
            "display": null,
            "flex": null,
            "flex_flow": null,
            "grid_area": null,
            "grid_auto_columns": null,
            "grid_auto_flow": null,
            "grid_auto_rows": null,
            "grid_column": null,
            "grid_gap": null,
            "grid_row": null,
            "grid_template_areas": null,
            "grid_template_columns": null,
            "grid_template_rows": null,
            "height": null,
            "justify_content": null,
            "justify_items": null,
            "left": null,
            "margin": null,
            "max_height": null,
            "max_width": null,
            "min_height": null,
            "min_width": null,
            "object_fit": null,
            "object_position": null,
            "order": null,
            "overflow": null,
            "overflow_x": null,
            "overflow_y": null,
            "padding": null,
            "right": null,
            "top": null,
            "visibility": null,
            "width": "20px"
          }
        },
        "5310c4893bca49efb8e3eb0935d12e5d": {
          "model_module": "@jupyter-widgets/controls",
          "model_name": "ProgressStyleModel",
          "model_module_version": "1.5.0",
          "state": {
            "_model_module": "@jupyter-widgets/controls",
            "_model_module_version": "1.5.0",
            "_model_name": "ProgressStyleModel",
            "_view_count": null,
            "_view_module": "@jupyter-widgets/base",
            "_view_module_version": "1.2.0",
            "_view_name": "StyleView",
            "bar_color": null,
            "description_width": ""
          }
        },
        "c49e8d3f15ba45c4bf36a7b9d3512aa8": {
          "model_module": "@jupyter-widgets/base",
          "model_name": "LayoutModel",
          "model_module_version": "1.2.0",
          "state": {
            "_model_module": "@jupyter-widgets/base",
            "_model_module_version": "1.2.0",
            "_model_name": "LayoutModel",
            "_view_count": null,
            "_view_module": "@jupyter-widgets/base",
            "_view_module_version": "1.2.0",
            "_view_name": "LayoutView",
            "align_content": null,
            "align_items": null,
            "align_self": null,
            "border": null,
            "bottom": null,
            "display": null,
            "flex": null,
            "flex_flow": null,
            "grid_area": null,
            "grid_auto_columns": null,
            "grid_auto_flow": null,
            "grid_auto_rows": null,
            "grid_column": null,
            "grid_gap": null,
            "grid_row": null,
            "grid_template_areas": null,
            "grid_template_columns": null,
            "grid_template_rows": null,
            "height": null,
            "justify_content": null,
            "justify_items": null,
            "left": null,
            "margin": null,
            "max_height": null,
            "max_width": null,
            "min_height": null,
            "min_width": null,
            "object_fit": null,
            "object_position": null,
            "order": null,
            "overflow": null,
            "overflow_x": null,
            "overflow_y": null,
            "padding": null,
            "right": null,
            "top": null,
            "visibility": null,
            "width": null
          }
        },
        "c9238cb782f04f5cbb0d6b42a1b39171": {
          "model_module": "@jupyter-widgets/controls",
          "model_name": "DescriptionStyleModel",
          "model_module_version": "1.5.0",
          "state": {
            "_model_module": "@jupyter-widgets/controls",
            "_model_module_version": "1.5.0",
            "_model_name": "DescriptionStyleModel",
            "_view_count": null,
            "_view_module": "@jupyter-widgets/base",
            "_view_module_version": "1.2.0",
            "_view_name": "StyleView",
            "description_width": ""
          }
        },
        "c6a0af199258497da4eda7aff9dd33e1": {
          "model_module": "@jupyter-widgets/controls",
          "model_name": "HBoxModel",
          "model_module_version": "1.5.0",
          "state": {
            "_dom_classes": [],
            "_model_module": "@jupyter-widgets/controls",
            "_model_module_version": "1.5.0",
            "_model_name": "HBoxModel",
            "_view_count": null,
            "_view_module": "@jupyter-widgets/controls",
            "_view_module_version": "1.5.0",
            "_view_name": "HBoxView",
            "box_style": "",
            "children": [
              "IPY_MODEL_aa204a065f154c2f83786de9ddb61953",
              "IPY_MODEL_1b9dea4fca85481ab70ee5b6cc019976",
              "IPY_MODEL_9feb9e8be5ab4e1ca7fc29336af5b818"
            ],
            "layout": "IPY_MODEL_b00cf76cbe004447b72e5ec0f35b0d33"
          }
        },
        "aa204a065f154c2f83786de9ddb61953": {
          "model_module": "@jupyter-widgets/controls",
          "model_name": "HTMLModel",
          "model_module_version": "1.5.0",
          "state": {
            "_dom_classes": [],
            "_model_module": "@jupyter-widgets/controls",
            "_model_module_version": "1.5.0",
            "_model_name": "HTMLModel",
            "_view_count": null,
            "_view_module": "@jupyter-widgets/controls",
            "_view_module_version": "1.5.0",
            "_view_name": "HTMLView",
            "description": "",
            "description_tooltip": null,
            "layout": "IPY_MODEL_5031e254362649b09a1a940f035df2d5",
            "placeholder": "​",
            "style": "IPY_MODEL_99e87ca2c2c6490bb15eabb2585e726f",
            "value": "Shuffling /root/tensorflow_datasets/cifar10/3.0.2.incomplete9IBA6J/cifar10-test.tfrecord*...:   0%"
          }
        },
        "1b9dea4fca85481ab70ee5b6cc019976": {
          "model_module": "@jupyter-widgets/controls",
          "model_name": "FloatProgressModel",
          "model_module_version": "1.5.0",
          "state": {
            "_dom_classes": [],
            "_model_module": "@jupyter-widgets/controls",
            "_model_module_version": "1.5.0",
            "_model_name": "FloatProgressModel",
            "_view_count": null,
            "_view_module": "@jupyter-widgets/controls",
            "_view_module_version": "1.5.0",
            "_view_name": "ProgressView",
            "bar_style": "",
            "description": "",
            "description_tooltip": null,
            "layout": "IPY_MODEL_0e403761d6d041e094f5a79cad9492a7",
            "max": 10000,
            "min": 0,
            "orientation": "horizontal",
            "style": "IPY_MODEL_16416259bf24464797d121f38b604d75",
            "value": 10000
          }
        },
        "9feb9e8be5ab4e1ca7fc29336af5b818": {
          "model_module": "@jupyter-widgets/controls",
          "model_name": "HTMLModel",
          "model_module_version": "1.5.0",
          "state": {
            "_dom_classes": [],
            "_model_module": "@jupyter-widgets/controls",
            "_model_module_version": "1.5.0",
            "_model_name": "HTMLModel",
            "_view_count": null,
            "_view_module": "@jupyter-widgets/controls",
            "_view_module_version": "1.5.0",
            "_view_name": "HTMLView",
            "description": "",
            "description_tooltip": null,
            "layout": "IPY_MODEL_86e38469e218455186ee36bfdfdeca61",
            "placeholder": "​",
            "style": "IPY_MODEL_d56e94f0a7cc4dbd8c5e9642c62d01cd",
            "value": " 0/10000 [00:00&lt;?, ? examples/s]"
          }
        },
        "b00cf76cbe004447b72e5ec0f35b0d33": {
          "model_module": "@jupyter-widgets/base",
          "model_name": "LayoutModel",
          "model_module_version": "1.2.0",
          "state": {
            "_model_module": "@jupyter-widgets/base",
            "_model_module_version": "1.2.0",
            "_model_name": "LayoutModel",
            "_view_count": null,
            "_view_module": "@jupyter-widgets/base",
            "_view_module_version": "1.2.0",
            "_view_name": "LayoutView",
            "align_content": null,
            "align_items": null,
            "align_self": null,
            "border": null,
            "bottom": null,
            "display": null,
            "flex": null,
            "flex_flow": null,
            "grid_area": null,
            "grid_auto_columns": null,
            "grid_auto_flow": null,
            "grid_auto_rows": null,
            "grid_column": null,
            "grid_gap": null,
            "grid_row": null,
            "grid_template_areas": null,
            "grid_template_columns": null,
            "grid_template_rows": null,
            "height": null,
            "justify_content": null,
            "justify_items": null,
            "left": null,
            "margin": null,
            "max_height": null,
            "max_width": null,
            "min_height": null,
            "min_width": null,
            "object_fit": null,
            "object_position": null,
            "order": null,
            "overflow": null,
            "overflow_x": null,
            "overflow_y": null,
            "padding": null,
            "right": null,
            "top": null,
            "visibility": "hidden",
            "width": null
          }
        },
        "5031e254362649b09a1a940f035df2d5": {
          "model_module": "@jupyter-widgets/base",
          "model_name": "LayoutModel",
          "model_module_version": "1.2.0",
          "state": {
            "_model_module": "@jupyter-widgets/base",
            "_model_module_version": "1.2.0",
            "_model_name": "LayoutModel",
            "_view_count": null,
            "_view_module": "@jupyter-widgets/base",
            "_view_module_version": "1.2.0",
            "_view_name": "LayoutView",
            "align_content": null,
            "align_items": null,
            "align_self": null,
            "border": null,
            "bottom": null,
            "display": null,
            "flex": null,
            "flex_flow": null,
            "grid_area": null,
            "grid_auto_columns": null,
            "grid_auto_flow": null,
            "grid_auto_rows": null,
            "grid_column": null,
            "grid_gap": null,
            "grid_row": null,
            "grid_template_areas": null,
            "grid_template_columns": null,
            "grid_template_rows": null,
            "height": null,
            "justify_content": null,
            "justify_items": null,
            "left": null,
            "margin": null,
            "max_height": null,
            "max_width": null,
            "min_height": null,
            "min_width": null,
            "object_fit": null,
            "object_position": null,
            "order": null,
            "overflow": null,
            "overflow_x": null,
            "overflow_y": null,
            "padding": null,
            "right": null,
            "top": null,
            "visibility": null,
            "width": null
          }
        },
        "99e87ca2c2c6490bb15eabb2585e726f": {
          "model_module": "@jupyter-widgets/controls",
          "model_name": "DescriptionStyleModel",
          "model_module_version": "1.5.0",
          "state": {
            "_model_module": "@jupyter-widgets/controls",
            "_model_module_version": "1.5.0",
            "_model_name": "DescriptionStyleModel",
            "_view_count": null,
            "_view_module": "@jupyter-widgets/base",
            "_view_module_version": "1.2.0",
            "_view_name": "StyleView",
            "description_width": ""
          }
        },
        "0e403761d6d041e094f5a79cad9492a7": {
          "model_module": "@jupyter-widgets/base",
          "model_name": "LayoutModel",
          "model_module_version": "1.2.0",
          "state": {
            "_model_module": "@jupyter-widgets/base",
            "_model_module_version": "1.2.0",
            "_model_name": "LayoutModel",
            "_view_count": null,
            "_view_module": "@jupyter-widgets/base",
            "_view_module_version": "1.2.0",
            "_view_name": "LayoutView",
            "align_content": null,
            "align_items": null,
            "align_self": null,
            "border": null,
            "bottom": null,
            "display": null,
            "flex": null,
            "flex_flow": null,
            "grid_area": null,
            "grid_auto_columns": null,
            "grid_auto_flow": null,
            "grid_auto_rows": null,
            "grid_column": null,
            "grid_gap": null,
            "grid_row": null,
            "grid_template_areas": null,
            "grid_template_columns": null,
            "grid_template_rows": null,
            "height": null,
            "justify_content": null,
            "justify_items": null,
            "left": null,
            "margin": null,
            "max_height": null,
            "max_width": null,
            "min_height": null,
            "min_width": null,
            "object_fit": null,
            "object_position": null,
            "order": null,
            "overflow": null,
            "overflow_x": null,
            "overflow_y": null,
            "padding": null,
            "right": null,
            "top": null,
            "visibility": null,
            "width": null
          }
        },
        "16416259bf24464797d121f38b604d75": {
          "model_module": "@jupyter-widgets/controls",
          "model_name": "ProgressStyleModel",
          "model_module_version": "1.5.0",
          "state": {
            "_model_module": "@jupyter-widgets/controls",
            "_model_module_version": "1.5.0",
            "_model_name": "ProgressStyleModel",
            "_view_count": null,
            "_view_module": "@jupyter-widgets/base",
            "_view_module_version": "1.2.0",
            "_view_name": "StyleView",
            "bar_color": null,
            "description_width": ""
          }
        },
        "86e38469e218455186ee36bfdfdeca61": {
          "model_module": "@jupyter-widgets/base",
          "model_name": "LayoutModel",
          "model_module_version": "1.2.0",
          "state": {
            "_model_module": "@jupyter-widgets/base",
            "_model_module_version": "1.2.0",
            "_model_name": "LayoutModel",
            "_view_count": null,
            "_view_module": "@jupyter-widgets/base",
            "_view_module_version": "1.2.0",
            "_view_name": "LayoutView",
            "align_content": null,
            "align_items": null,
            "align_self": null,
            "border": null,
            "bottom": null,
            "display": null,
            "flex": null,
            "flex_flow": null,
            "grid_area": null,
            "grid_auto_columns": null,
            "grid_auto_flow": null,
            "grid_auto_rows": null,
            "grid_column": null,
            "grid_gap": null,
            "grid_row": null,
            "grid_template_areas": null,
            "grid_template_columns": null,
            "grid_template_rows": null,
            "height": null,
            "justify_content": null,
            "justify_items": null,
            "left": null,
            "margin": null,
            "max_height": null,
            "max_width": null,
            "min_height": null,
            "min_width": null,
            "object_fit": null,
            "object_position": null,
            "order": null,
            "overflow": null,
            "overflow_x": null,
            "overflow_y": null,
            "padding": null,
            "right": null,
            "top": null,
            "visibility": null,
            "width": null
          }
        },
        "d56e94f0a7cc4dbd8c5e9642c62d01cd": {
          "model_module": "@jupyter-widgets/controls",
          "model_name": "DescriptionStyleModel",
          "model_module_version": "1.5.0",
          "state": {
            "_model_module": "@jupyter-widgets/controls",
            "_model_module_version": "1.5.0",
            "_model_name": "DescriptionStyleModel",
            "_view_count": null,
            "_view_module": "@jupyter-widgets/base",
            "_view_module_version": "1.2.0",
            "_view_name": "StyleView",
            "description_width": ""
          }
        }
      }
    },
    "accelerator": "GPU",
    "gpuClass": "standard"
  },
  "cells": [
    {
      "cell_type": "markdown",
      "metadata": {
        "id": "view-in-github",
        "colab_type": "text"
      },
      "source": [
        "<a href=\"https://colab.research.google.com/github/RobertoRamosCastro/ImageClassification/blob/main/CNN_Keras.ipynb\" target=\"_parent\"><img src=\"https://colab.research.google.com/assets/colab-badge.svg\" alt=\"Open In Colab\"/></a>"
      ]
    },
    {
      "cell_type": "markdown",
      "source": [
        "import keras \n",
        "from keras.utils import to_categorical\n",
        "import numpy as np\n",
        "import matplotlib.pyplot as plt\n",
        "\n",
        "print(\"keras version\", keras.__version__)"
      ],
      "metadata": {
        "id": "lXlGCHMmX5MW"
      }
    },
    {
      "cell_type": "markdown",
      "source": [
        "\n",
        "\n",
        "# Cargar base de datos de diferentes tipos de fuentes\n",
        "import os \n",
        "from six.moves import urllib\n",
        "\n",
        "file_url = 'https://github.com/bloolizard/PlayWithTensorFlow/raw/master/data_with_labels.npz'\n",
        "file_name = 'data_with_labels.npz'\n",
        "\n",
        "if not os.path.exists(file_name):\n",
        "  urllib.request.urlretrieve(file_url, file_name)\n",
        "\n",
        "# Cargar datos\n",
        "data = np.load(file=file_name)\n",
        "\n",
        "train= data['arr_0'] / 255\n",
        "labels= data['arr_1']\n",
        "\n",
        "onehot = to_categorical(labels, num_classes=len(np.unique(labels)))\n"
      ],
      "metadata": {
        "id": "ZRXwnT9GX9PT"
      }
    },
    {
      "cell_type": "markdown",
      "source": [
        "#train.shape\n",
        "labels"
      ],
      "metadata": {
        "id": "Sax9cEAqYDx4"
      }
    },
    {
      "cell_type": "markdown",
      "source": [
        "# Dividir datos de entrenamineto al 90% y el resto para validacion\n",
        "np.random.seed(100)\n",
        "\n",
        "indices = np.random.permutation(train.shape[0])\n",
        "\n",
        "valid_cnt = int(train.shape[0] * 0.1)\n",
        "\n",
        "test_idx, training_idx = indices[:valid_cnt],\\\n",
        "                         indices[valid_cnt:]\n",
        "  \n",
        "test, train = train[test_idx,:],\\\n",
        "              train[training_idx,:]\n",
        "  \n",
        "onehot_test, onehot_train = onehot[test_idx,:],\\\n",
        "                        onehot[training_idx,:]\n",
        "train=train.reshape([-1,train.shape[1],train.shape[2],1])\n",
        "test=test.reshape([-1,test.shape[1],test.shape[2],1])\n",
        "\n",
        "print('Forma de datos de Entrenamiento=', train.shape , '\\nForma de datos de Test=', test.shape)\n"
      ],
      "metadata": {
        "id": "MHCyfDm-YHC0"
      }
    },
    {
      "cell_type": "code",
      "source": [
        "# Cargando nuevo set de datos para la misma arq de CNN\n",
        "import tensorflow as tf\n",
        "import tensorflow_datasets as tfds"
      ],
      "metadata": {
        "id": "6J3u3WTbChkv"
      },
      "execution_count": 2,
      "outputs": []
    },
    {
      "cell_type": "code",
      "source": [
        "data, metadata = tfds.load('cifar10', as_supervised=True, with_info=True)\n"
      ],
      "metadata": {
        "colab": {
          "base_uri": "https://localhost:8080/",
          "height": 148,
          "referenced_widgets": [
            "d2ce4816f0fa4783a11defdcf973a030",
            "306fc5b1440149db9c5c41ecfe3bcfdf",
            "77b03e9107b9437ba5c1cf45399831b0",
            "40335ddd310d41779b5b2ddb23bb023a",
            "d54f77d1cf3d4524909cb57d534d7e05",
            "b98d754f30a648b4a670ffb2a1c8848d",
            "3e7b26063f8143d6a94559ce3f9770a8",
            "41cd330e14cc4bdf89b65270cea62572",
            "f1a407eb0fae460fb095474f0acbbddf",
            "4084af0258b44752a05366462fc04e75",
            "cb4025d989624fec8e33725689dd6c42",
            "b11ce8ac49684732b0420e4b65192afa",
            "0fadc00b96f44f8588e30aa556d32a6a",
            "d97fe9f7106f4afd86f4b3a2aef3f76c",
            "bed5319850414cb5b69737959d3675b7",
            "06cc0f9664a6444596d476d410629f36",
            "cef860af7a9044ea8747322d720a00e8",
            "32a148e1986a42f4860c2b98b67fbace",
            "0f495e12e55a4670bd31c491b6c6e262",
            "ffc04b1359db466c858c1724b3f394e0",
            "153d68332cb541e1a3351d4771edf20c",
            "9085a7bb9a82465d825f24509487a773",
            "4210023519a54b6a9070784d91271e69",
            "5dba15367d90406ab0dca4ea6fb6439c",
            "9aebe3f9818c4c7086f2a1bc6c2e245d",
            "2f4ae61008ef43bc8ac31e724bc4ab2a",
            "6ea906c48de54114aab76515907f5b27",
            "2a7f4ae0e73f43edaca0d2753bd2ba49",
            "5658fb42bff74f7590615b5421de34c6",
            "929ef208bcb743e7a9e838f01b7dd951",
            "6ddd6fee561b4ba5a38e0d293009a5f5",
            "db7cdb6bd2bd49a9a7cfa444a5d0171e",
            "998e92650ef049e39250de99c650a4ee",
            "fb69af3fd480472caac1e4063a02ac9a",
            "23fb2055217c4bcc8f9a52e4d789cac1",
            "fb78080e65e04d159d9226cf58c8f0d7",
            "69a046f216a449678e8deaf250d5df09",
            "d1120f8d541b40c38bf848ee4baed9a3",
            "21a33887d65945b4a230a2794c9eae43",
            "5e3def375c7944c0bcca906790ec79b0",
            "cdbc34c776524a36bd2bf824b6cf0dcb",
            "2ac367795fa4405285803605b957fc15",
            "279e287f6565440fb536ca725c7882b4",
            "97f66b0683ff43f69194d97e8ca8df8a",
            "0d8e8d3774c546d495d51790fbfb3006",
            "c1600fe7f3634a8c9904264dd9c7ea8d",
            "56a54d6555ec48f59c319c92ea6ec452",
            "f89df4e2979e43cc9a502f5f0f8c0ee6",
            "f6ccd08b18c44c519e79a2e5b4ac6eb6",
            "392875733262482a8c9330f7cce28659",
            "cede8b8dd1bf4883bf6a45a61e02d34f",
            "9580164878ce486e8f8408efb9487c63",
            "b0d2627ff0f44a13a4c4d34814b34e6b",
            "c570901bcb824da497ba786803b1806c",
            "55e0d4042cde4743b0f71aca265747f2",
            "5fb88988b68840bc8265966007667d86",
            "8846273f76964c2aa3986f8b0c78cbeb",
            "488d41349adc4c5ba096ab5e9444c9a8",
            "cf585843ea5640568cc9a0f12f3ee0d0",
            "b1b6a60078f34823ada8255018c812a2",
            "4796bdc119ca456d813be30a54b82462",
            "171dd37e7ec44433bf682d3c545b8b12",
            "7fa0b468e1f7476ea0a2e9056b993faa",
            "4b78b0a57af44defa2665c844f545d75",
            "40bb8b3d6e324dc19cdeaaca5c28116a",
            "9287429d644c45188726911595e5fc9e",
            "2204438af2e348b39bc3e474cee9bbd0",
            "51e4b728aeef4bdf85c7df9a5c31fab0",
            "c7cdbc4311c749df9c68c9e9daf9d5a7",
            "71e14b3e30314322b6967aa3eb5a5735",
            "41da98515947436e92eda4276153d709",
            "acb98db6c67f49658dce4ca85d89f383",
            "d47fc39e64554722b7b84bbb91d79b12",
            "37489ff0340142079c0777ff63b0ffc2",
            "5310c4893bca49efb8e3eb0935d12e5d",
            "c49e8d3f15ba45c4bf36a7b9d3512aa8",
            "c9238cb782f04f5cbb0d6b42a1b39171",
            "c6a0af199258497da4eda7aff9dd33e1",
            "aa204a065f154c2f83786de9ddb61953",
            "1b9dea4fca85481ab70ee5b6cc019976",
            "9feb9e8be5ab4e1ca7fc29336af5b818",
            "b00cf76cbe004447b72e5ec0f35b0d33",
            "5031e254362649b09a1a940f035df2d5",
            "99e87ca2c2c6490bb15eabb2585e726f",
            "0e403761d6d041e094f5a79cad9492a7",
            "16416259bf24464797d121f38b604d75",
            "86e38469e218455186ee36bfdfdeca61",
            "d56e94f0a7cc4dbd8c5e9642c62d01cd"
          ]
        },
        "id": "OLON7dlVDyMr",
        "outputId": "1af46c52-ad22-4add-dab2-d46ab8a938b3"
      },
      "execution_count": 3,
      "outputs": [
        {
          "output_type": "stream",
          "name": "stdout",
          "text": [
            "Downloading and preparing dataset Unknown size (download: Unknown size, generated: Unknown size, total: Unknown size) to /root/tensorflow_datasets/cifar10/3.0.2...\n"
          ]
        },
        {
          "output_type": "display_data",
          "data": {
            "text/plain": [
              "Dl Completed...: 0 url [00:00, ? url/s]"
            ],
            "application/vnd.jupyter.widget-view+json": {
              "version_major": 2,
              "version_minor": 0,
              "model_id": "d2ce4816f0fa4783a11defdcf973a030"
            }
          },
          "metadata": {}
        },
        {
          "output_type": "display_data",
          "data": {
            "text/plain": [
              "Dl Size...: 0 MiB [00:00, ? MiB/s]"
            ],
            "application/vnd.jupyter.widget-view+json": {
              "version_major": 2,
              "version_minor": 0,
              "model_id": "b11ce8ac49684732b0420e4b65192afa"
            }
          },
          "metadata": {}
        },
        {
          "output_type": "display_data",
          "data": {
            "text/plain": [
              "Extraction completed...: 0 file [00:00, ? file/s]"
            ],
            "application/vnd.jupyter.widget-view+json": {
              "version_major": 2,
              "version_minor": 0,
              "model_id": "4210023519a54b6a9070784d91271e69"
            }
          },
          "metadata": {}
        },
        {
          "output_type": "display_data",
          "data": {
            "text/plain": [
              "Generating splits...:   0%|          | 0/2 [00:00<?, ? splits/s]"
            ],
            "application/vnd.jupyter.widget-view+json": {
              "version_major": 2,
              "version_minor": 0,
              "model_id": "fb69af3fd480472caac1e4063a02ac9a"
            }
          },
          "metadata": {}
        },
        {
          "output_type": "display_data",
          "data": {
            "text/plain": [
              "Generating train examples...: 0 examples [00:00, ? examples/s]"
            ],
            "application/vnd.jupyter.widget-view+json": {
              "version_major": 2,
              "version_minor": 0,
              "model_id": "0d8e8d3774c546d495d51790fbfb3006"
            }
          },
          "metadata": {}
        },
        {
          "output_type": "display_data",
          "data": {
            "text/plain": [
              "Shuffling /root/tensorflow_datasets/cifar10/3.0.2.incomplete9IBA6J/cifar10-train.tfrecord*...:   0%|          …"
            ],
            "application/vnd.jupyter.widget-view+json": {
              "version_major": 2,
              "version_minor": 0,
              "model_id": "5fb88988b68840bc8265966007667d86"
            }
          },
          "metadata": {}
        },
        {
          "output_type": "display_data",
          "data": {
            "text/plain": [
              "Generating test examples...: 0 examples [00:00, ? examples/s]"
            ],
            "application/vnd.jupyter.widget-view+json": {
              "version_major": 2,
              "version_minor": 0,
              "model_id": "2204438af2e348b39bc3e474cee9bbd0"
            }
          },
          "metadata": {}
        },
        {
          "output_type": "display_data",
          "data": {
            "text/plain": [
              "Shuffling /root/tensorflow_datasets/cifar10/3.0.2.incomplete9IBA6J/cifar10-test.tfrecord*...:   0%|          |…"
            ],
            "application/vnd.jupyter.widget-view+json": {
              "version_major": 2,
              "version_minor": 0,
              "model_id": "c6a0af199258497da4eda7aff9dd33e1"
            }
          },
          "metadata": {}
        },
        {
          "output_type": "stream",
          "name": "stdout",
          "text": [
            "Dataset cifar10 downloaded and prepared to /root/tensorflow_datasets/cifar10/3.0.2. Subsequent calls will reuse this data.\n"
          ]
        }
      ]
    },
    {
      "cell_type": "code",
      "source": [
        "train, test = data['train'], data['test']"
      ],
      "metadata": {
        "id": "EBrIXWbXElBM"
      },
      "execution_count": 4,
      "outputs": []
    },
    {
      "cell_type": "code",
      "source": [
        "print(train,'\\n',test)"
      ],
      "metadata": {
        "colab": {
          "base_uri": "https://localhost:8080/"
        },
        "id": "TV-_H-HDExBf",
        "outputId": "f3bfa4e0-ff55-4a31-b902-f5e0e55013f3"
      },
      "execution_count": 5,
      "outputs": [
        {
          "output_type": "stream",
          "name": "stdout",
          "text": [
            "<PrefetchDataset element_spec=(TensorSpec(shape=(32, 32, 3), dtype=tf.uint8, name=None), TensorSpec(shape=(), dtype=tf.int64, name=None))> \n",
            " <PrefetchDataset element_spec=(TensorSpec(shape=(32, 32, 3), dtype=tf.uint8, name=None), TensorSpec(shape=(), dtype=tf.int64, name=None))>\n"
          ]
        }
      ]
    },
    {
      "cell_type": "code",
      "source": [
        "metadata"
      ],
      "metadata": {
        "colab": {
          "base_uri": "https://localhost:8080/"
        },
        "id": "xmJwqWX_chhi",
        "outputId": "43e31811-cf47-419f-e95d-f0b09be54424"
      },
      "execution_count": 6,
      "outputs": [
        {
          "output_type": "execute_result",
          "data": {
            "text/plain": [
              "tfds.core.DatasetInfo(\n",
              "    name='cifar10',\n",
              "    full_name='cifar10/3.0.2',\n",
              "    description=\"\"\"\n",
              "    The CIFAR-10 dataset consists of 60000 32x32 colour images in 10 classes, with 6000 images per class. There are 50000 training images and 10000 test images.\n",
              "    \"\"\",\n",
              "    homepage='https://www.cs.toronto.edu/~kriz/cifar.html',\n",
              "    data_path='/root/tensorflow_datasets/cifar10/3.0.2',\n",
              "    file_format=tfrecord,\n",
              "    download_size=162.17 MiB,\n",
              "    dataset_size=132.40 MiB,\n",
              "    features=FeaturesDict({\n",
              "        'id': Text(shape=(), dtype=string),\n",
              "        'image': Image(shape=(32, 32, 3), dtype=uint8),\n",
              "        'label': ClassLabel(shape=(), dtype=int64, num_classes=10),\n",
              "    }),\n",
              "    supervised_keys=('image', 'label'),\n",
              "    disable_shuffling=False,\n",
              "    splits={\n",
              "        'test': <SplitInfo num_examples=10000, num_shards=1>,\n",
              "        'train': <SplitInfo num_examples=50000, num_shards=1>,\n",
              "    },\n",
              "    citation=\"\"\"@TECHREPORT{Krizhevsky09learningmultiple,\n",
              "        author = {Alex Krizhevsky},\n",
              "        title = {Learning multiple layers of features from tiny images},\n",
              "        institution = {},\n",
              "        year = {2009}\n",
              "    }\"\"\",\n",
              ")"
            ]
          },
          "metadata": {},
          "execution_count": 6
        }
      ]
    },
    {
      "cell_type": "code",
      "source": [
        "class_names = metadata.features['label'].names\n",
        "class_names"
      ],
      "metadata": {
        "colab": {
          "base_uri": "https://localhost:8080/"
        },
        "id": "SdyLIShzE9jM",
        "outputId": "ee5d71c8-70d1-4ed1-ac28-02cbd551aafb"
      },
      "execution_count": 7,
      "outputs": [
        {
          "output_type": "execute_result",
          "data": {
            "text/plain": [
              "['airplane',\n",
              " 'automobile',\n",
              " 'bird',\n",
              " 'cat',\n",
              " 'deer',\n",
              " 'dog',\n",
              " 'frog',\n",
              " 'horse',\n",
              " 'ship',\n",
              " 'truck']"
            ]
          },
          "metadata": {},
          "execution_count": 7
        }
      ]
    },
    {
      "cell_type": "code",
      "source": [
        "# Normalizar la data\n",
        "\n",
        "def normalize(imagenes, etiquetas):\n",
        "  imagenes = tf.cast(imagenes, dtype=tf.float32)\n",
        "  imagenes /= 255\n",
        "  return imagenes, etiquetas\n"
      ],
      "metadata": {
        "id": "TtRyCDRxFHzJ"
      },
      "execution_count": 8,
      "outputs": []
    },
    {
      "cell_type": "code",
      "source": [
        "# Splitear el conjunto de datos en 80(entrenamiento)-20(validacion)"
      ],
      "metadata": {
        "id": "NeZ7A4rzYjLL"
      },
      "execution_count": null,
      "outputs": []
    },
    {
      "cell_type": "code",
      "source": [
        "# Preprocesamiento de los datos\n",
        "\n",
        "train = train.map(normalize)\n",
        "#test = test.map(normalize)\n",
        "\n",
        "# Cargarlo en la memoria de cache\n",
        "train = train.cache()\n",
        "\n",
        "BATCH_SIZE = 32\n",
        "train = train.shuffle(metadata.splits['train'].num_examples)\n",
        "train = train.batch(BATCH_SIZE)\n",
        "train = train.prefetch(tf.data.experimental.AUTOTUNE)\n",
        "\n",
        "# Si queremos preprocesar los datos tendrian que ser tambien del set de validacion, del test\n",
        "#test = test.batch(BATCH_SIZE) \n",
        "#test = test.prefetch(tf.data.experimental.AUTOTUNE)"
      ],
      "metadata": {
        "id": "5rPiwlcLYG-4"
      },
      "execution_count": 13,
      "outputs": []
    },
    {
      "cell_type": "code",
      "source": [
        "train"
      ],
      "metadata": {
        "colab": {
          "base_uri": "https://localhost:8080/"
        },
        "id": "YEagrdvokJvs",
        "outputId": "a6b27ca7-d7ce-45da-8948-ed7ad1a97014"
      },
      "execution_count": 14,
      "outputs": [
        {
          "output_type": "execute_result",
          "data": {
            "text/plain": [
              "<PrefetchDataset element_spec=(TensorSpec(shape=(None, 32, 32, 3), dtype=tf.float32, name=None), TensorSpec(shape=(None,), dtype=tf.int64, name=None))>"
            ]
          },
          "metadata": {},
          "execution_count": 14
        }
      ]
    },
    {
      "cell_type": "markdown",
      "source": [
        "import matplotlib.pyplot as plt\n",
        "\n",
        "for imagen, lbl, in train.take(1):\n",
        "  break\n",
        "  imagen = imagen.numpy().reshape((28,28)) # Redimensionamos\n",
        "\n",
        "# Dibujar la imagen\n",
        "plt.figure()\n",
        "plt.imshow(imagen)\n",
        "plt.colorbar()\n",
        "plt.grid(False)\n",
        "plt.show()"
      ],
      "metadata": {
        "id": "Ciqx0ipoYL1l"
      }
    },
    {
      "cell_type": "code",
      "source": [
        "import matplotlib.pyplot as plt\n",
        "\n",
        "plt.figure(figsize=(10,10))\n",
        "for i, (imagen, etiqueta) in enumerate(train.take(15)):\n",
        "  imagen = imagen.numpy()\n",
        "  plt.subplot(5,5,i+1)\n",
        "  plt.xticks([])\n",
        "  plt.yticks([])\n",
        "  plt.grid(False)\n",
        "  plt.imshow(imagen, cmap=plt.cm.binary)\n",
        "  plt.xlabel(class_names[etiqueta])\n",
        "plt.show"
      ],
      "metadata": {
        "colab": {
          "base_uri": "https://localhost:8080/",
          "height": 384
        },
        "id": "l89Wz6oEU3Ko",
        "outputId": "acc0c00c-1825-49f2-95ff-137c1c72a11f"
      },
      "execution_count": 11,
      "outputs": [
        {
          "output_type": "execute_result",
          "data": {
            "text/plain": [
              "<function matplotlib.pyplot.show(close=None, block=None)>"
            ]
          },
          "metadata": {},
          "execution_count": 11
        },
        {
          "output_type": "display_data",
          "data": {
            "text/plain": [
              "<Figure size 720x720 with 15 Axes>"
            ],
            "image/png": "[encoded data removed]"
          },
          "metadata": {}
        }
      ]
    },
    {
      "cell_type": "markdown",
      "source": [
        "plt.figure(figsize=(10,10))\n",
        "for i, (imagen, etiqueta) in enumerate(train.take(1)):\n",
        "  imagen = imagen.numpy()\n",
        "  plt.subplot(5,5,i+1)\n",
        "  plt.xticks([])\n",
        "  plt.yticks([])\n",
        "  plt.grid(False)\n",
        "  plt.imshow(imagen, cmap=plt.cm.binary)\n",
        "  plt.xlabel(class_names[etiqueta])\n",
        "plt.show"
      ],
      "metadata": {
        "id": "Y9tTHOI4YOOF"
      }
    },
    {
      "cell_type": "code",
      "source": [
        "ds = tfds.load('cifar10', split='train')\n",
        "ds = ds.take(1)\n",
        "\n",
        "for example in ds:\n",
        "  print(list(example.keys()))\n",
        "  image = example['image']\n",
        "  tamano_entrada = image.shape\n",
        "  label = example['label']\n",
        "  print(tamano_entrada, label)"
      ],
      "metadata": {
        "colab": {
          "base_uri": "https://localhost:8080/"
        },
        "id": "25z1qNFlZBXv",
        "outputId": "f5dec84f-db37-483b-dea0-e3944b9f7866"
      },
      "execution_count": 12,
      "outputs": [
        {
          "output_type": "stream",
          "name": "stdout",
          "text": [
            "['id', 'image', 'label']\n",
            "(32, 32, 3) tf.Tensor(7, shape=(), dtype=int64)\n"
          ]
        }
      ]
    },
    {
      "cell_type": "code",
      "source": [
        "# Definir la arquitectura de nuestra CNN\n",
        "from keras.layers.merging.add import add\n",
        "from keras.models import Sequential\n",
        "from keras.layers import Convolution2D, MaxPooling2D, Dense, Flatten, Dropout\n",
        "from keras import Input\n",
        "\n",
        "num_clases = len(class_names)\n",
        "\n",
        "model = Sequential()\n",
        "\n",
        "# Hidden layer 1\n",
        "model.add(Convolution2D(32, (3,3), activation='relu', input_shape=(32,32,3)))\n",
        "model.add(MaxPooling2D(pool_size=(2,2)))\n",
        "\n",
        "# Hidden layer 2\n",
        "model.add(Convolution2D(64, (3,3), activation='relu'))\n",
        "model.add(MaxPooling2D(pool_size=(2,2)))\n",
        "\n",
        "# Hidden layer 3\n",
        "model.add(Convolution2D(128, (3,3), activation='relu'))\n",
        "model.add(MaxPooling2D(pool_size=(2,2)))\n",
        "\n",
        "model.add(Flatten())\n",
        "model.add(Dense(128, activation='relu'))\n",
        "model.add(Dropout(0.5))\n",
        "model.add(Dense(num_clases, activation='softmax'))\n",
        "\n",
        "model.summary()"
      ],
      "metadata": {
        "colab": {
          "base_uri": "https://localhost:8080/"
        },
        "id": "vDzRDJtGCnFU",
        "outputId": "2f79a11c-d959-44f0-a039-95198578d530"
      },
      "execution_count": 15,
      "outputs": [
        {
          "output_type": "stream",
          "name": "stdout",
          "text": [
            "Model: \"sequential\"\n",
            "_________________________________________________________________\n",
            " Layer (type)                Output Shape              Param #   \n",
            "=================================================================\n",
            " conv2d (Conv2D)             (None, 30, 30, 32)        896       \n",
            "                                                                 \n",
            " max_pooling2d (MaxPooling2D  (None, 15, 15, 32)       0         \n",
            " )                                                               \n",
            "                                                                 \n",
            " conv2d_1 (Conv2D)           (None, 13, 13, 64)        18496     \n",
            "                                                                 \n",
            " max_pooling2d_1 (MaxPooling  (None, 6, 6, 64)         0         \n",
            " 2D)                                                             \n",
            "                                                                 \n",
            " conv2d_2 (Conv2D)           (None, 4, 4, 128)         73856     \n",
            "                                                                 \n",
            " max_pooling2d_2 (MaxPooling  (None, 2, 2, 128)        0         \n",
            " 2D)                                                             \n",
            "                                                                 \n",
            " flatten (Flatten)           (None, 512)               0         \n",
            "                                                                 \n",
            " dense (Dense)               (None, 128)               65664     \n",
            "                                                                 \n",
            " dropout (Dropout)           (None, 128)               0         \n",
            "                                                                 \n",
            " dense_1 (Dense)             (None, 10)                1290      \n",
            "                                                                 \n",
            "=================================================================\n",
            "Total params: 160,202\n",
            "Trainable params: 160,202\n",
            "Non-trainable params: 0\n",
            "_________________________________________________________________\n"
          ]
        }
      ]
    },
    {
      "cell_type": "code",
      "source": [
        "# Definir modelo\n",
        "\n",
        "model.compile(optimizer='adam',\n",
        "              loss='sparse_categorical_crossentropy',\n",
        "              metrics=['accuracy'])"
      ],
      "metadata": {
        "id": "etSAoTqgErd1"
      },
      "execution_count": 16,
      "outputs": []
    },
    {
      "cell_type": "code",
      "source": [
        "# Entrenar modelo\n",
        "\n",
        "history = model.fit(train,\n",
        "          epochs=50,\n",
        "          batch_size=BATCH_SIZE,\n",
        "          verbose=2)"
      ],
      "metadata": {
        "colab": {
          "base_uri": "https://localhost:8080/"
        },
        "id": "tQlgm-X5FlrK",
        "outputId": "673e73d9-11a2-4f57-c601-8c2db9ee84b7"
      },
      "execution_count": 17,
      "outputs": [
        {
          "output_type": "stream",
          "name": "stdout",
          "text": [
            "Epoch 1/50\n",
            "1563/1563 - 23s - loss: 1.6498 - accuracy: 0.3910 - 23s/epoch - 15ms/step\n",
            "Epoch 2/50\n",
            "1563/1563 - 6s - loss: 1.2887 - accuracy: 0.5426 - 6s/epoch - 4ms/step\n",
            "Epoch 3/50\n",
            "1563/1563 - 6s - loss: 1.1331 - accuracy: 0.6046 - 6s/epoch - 4ms/step\n",
            "Epoch 4/50\n",
            "1563/1563 - 6s - loss: 1.0293 - accuracy: 0.6409 - 6s/epoch - 4ms/step\n",
            "Epoch 5/50\n",
            "1563/1563 - 6s - loss: 0.9522 - accuracy: 0.6686 - 6s/epoch - 4ms/step\n",
            "Epoch 6/50\n",
            "1563/1563 - 6s - loss: 0.8959 - accuracy: 0.6881 - 6s/epoch - 4ms/step\n",
            "Epoch 7/50\n",
            "1563/1563 - 6s - loss: 0.8344 - accuracy: 0.7109 - 6s/epoch - 4ms/step\n",
            "Epoch 8/50\n",
            "1563/1563 - 6s - loss: 0.7968 - accuracy: 0.7229 - 6s/epoch - 4ms/step\n",
            "Epoch 9/50\n",
            "1563/1563 - 6s - loss: 0.7623 - accuracy: 0.7369 - 6s/epoch - 4ms/step\n",
            "Epoch 10/50\n",
            "1563/1563 - 6s - loss: 0.7220 - accuracy: 0.7490 - 6s/epoch - 4ms/step\n",
            "Epoch 11/50\n",
            "1563/1563 - 6s - loss: 0.6857 - accuracy: 0.7601 - 6s/epoch - 4ms/step\n",
            "Epoch 12/50\n",
            "1563/1563 - 6s - loss: 0.6649 - accuracy: 0.7683 - 6s/epoch - 4ms/step\n",
            "Epoch 13/50\n",
            "1563/1563 - 6s - loss: 0.6392 - accuracy: 0.7779 - 6s/epoch - 4ms/step\n",
            "Epoch 14/50\n",
            "1563/1563 - 6s - loss: 0.6139 - accuracy: 0.7854 - 6s/epoch - 4ms/step\n",
            "Epoch 15/50\n",
            "1563/1563 - 6s - loss: 0.5914 - accuracy: 0.7921 - 6s/epoch - 4ms/step\n",
            "Epoch 16/50\n",
            "1563/1563 - 6s - loss: 0.5668 - accuracy: 0.8006 - 6s/epoch - 4ms/step\n",
            "Epoch 17/50\n",
            "1563/1563 - 6s - loss: 0.5552 - accuracy: 0.8042 - 6s/epoch - 4ms/step\n",
            "Epoch 18/50\n",
            "1563/1563 - 6s - loss: 0.5323 - accuracy: 0.8125 - 6s/epoch - 4ms/step\n",
            "Epoch 19/50\n",
            "1563/1563 - 6s - loss: 0.5167 - accuracy: 0.8181 - 6s/epoch - 4ms/step\n",
            "Epoch 20/50\n",
            "1563/1563 - 6s - loss: 0.5011 - accuracy: 0.8217 - 6s/epoch - 4ms/step\n",
            "Epoch 21/50\n",
            "1563/1563 - 6s - loss: 0.4828 - accuracy: 0.8273 - 6s/epoch - 4ms/step\n",
            "Epoch 22/50\n",
            "1563/1563 - 6s - loss: 0.4713 - accuracy: 0.8320 - 6s/epoch - 4ms/step\n",
            "Epoch 23/50\n",
            "1563/1563 - 6s - loss: 0.4559 - accuracy: 0.8377 - 6s/epoch - 4ms/step\n",
            "Epoch 24/50\n",
            "1563/1563 - 7s - loss: 0.4487 - accuracy: 0.8393 - 7s/epoch - 5ms/step\n",
            "Epoch 25/50\n",
            "1563/1563 - 7s - loss: 0.4343 - accuracy: 0.8434 - 7s/epoch - 4ms/step\n",
            "Epoch 26/50\n",
            "1563/1563 - 8s - loss: 0.4206 - accuracy: 0.8492 - 8s/epoch - 5ms/step\n",
            "Epoch 27/50\n",
            "1563/1563 - 6s - loss: 0.4172 - accuracy: 0.8494 - 6s/epoch - 4ms/step\n",
            "Epoch 28/50\n",
            "1563/1563 - 6s - loss: 0.3970 - accuracy: 0.8574 - 6s/epoch - 4ms/step\n",
            "Epoch 29/50\n",
            "1563/1563 - 6s - loss: 0.3976 - accuracy: 0.8570 - 6s/epoch - 4ms/step\n",
            "Epoch 30/50\n",
            "1563/1563 - 6s - loss: 0.3859 - accuracy: 0.8608 - 6s/epoch - 4ms/step\n",
            "Epoch 31/50\n",
            "1563/1563 - 7s - loss: 0.3783 - accuracy: 0.8646 - 7s/epoch - 4ms/step\n",
            "Epoch 32/50\n",
            "1563/1563 - 7s - loss: 0.3695 - accuracy: 0.8667 - 7s/epoch - 4ms/step\n",
            "Epoch 33/50\n",
            "1563/1563 - 7s - loss: 0.3618 - accuracy: 0.8688 - 7s/epoch - 4ms/step\n",
            "Epoch 34/50\n",
            "1563/1563 - 6s - loss: 0.3622 - accuracy: 0.8696 - 6s/epoch - 4ms/step\n",
            "Epoch 35/50\n",
            "1563/1563 - 6s - loss: 0.3487 - accuracy: 0.8750 - 6s/epoch - 4ms/step\n",
            "Epoch 36/50\n",
            "1563/1563 - 8s - loss: 0.3423 - accuracy: 0.8743 - 8s/epoch - 5ms/step\n",
            "Epoch 37/50\n",
            "1563/1563 - 9s - loss: 0.3345 - accuracy: 0.8786 - 9s/epoch - 6ms/step\n",
            "Epoch 38/50\n",
            "1563/1563 - 8s - loss: 0.3320 - accuracy: 0.8807 - 8s/epoch - 5ms/step\n",
            "Epoch 39/50\n",
            "1563/1563 - 9s - loss: 0.3265 - accuracy: 0.8825 - 9s/epoch - 6ms/step\n",
            "Epoch 40/50\n",
            "1563/1563 - 6s - loss: 0.3227 - accuracy: 0.8835 - 6s/epoch - 4ms/step\n",
            "Epoch 41/50\n",
            "1563/1563 - 6s - loss: 0.3167 - accuracy: 0.8842 - 6s/epoch - 4ms/step\n",
            "Epoch 42/50\n",
            "1563/1563 - 6s - loss: 0.3053 - accuracy: 0.8904 - 6s/epoch - 4ms/step\n",
            "Epoch 43/50\n",
            "1563/1563 - 6s - loss: 0.3145 - accuracy: 0.8871 - 6s/epoch - 4ms/step\n",
            "Epoch 44/50\n",
            "1563/1563 - 6s - loss: 0.2994 - accuracy: 0.8924 - 6s/epoch - 4ms/step\n",
            "Epoch 45/50\n",
            "1563/1563 - 7s - loss: 0.2943 - accuracy: 0.8946 - 7s/epoch - 4ms/step\n",
            "Epoch 46/50\n",
            "1563/1563 - 6s - loss: 0.2918 - accuracy: 0.8971 - 6s/epoch - 4ms/step\n",
            "Epoch 47/50\n",
            "1563/1563 - 6s - loss: 0.2883 - accuracy: 0.8956 - 6s/epoch - 4ms/step\n",
            "Epoch 48/50\n",
            "1563/1563 - 6s - loss: 0.2830 - accuracy: 0.8981 - 6s/epoch - 4ms/step\n",
            "Epoch 49/50\n",
            "1563/1563 - 7s - loss: 0.2819 - accuracy: 0.8981 - 7s/epoch - 4ms/step\n",
            "Epoch 50/50\n",
            "1563/1563 - 6s - loss: 0.2742 - accuracy: 0.9022 - 6s/epoch - 4ms/step\n"
          ]
        }
      ]
    },
    {
      "cell_type": "code",
      "source": [
        "# Graficar modelo\n",
        "\n",
        "loss = history.history['loss']\n",
        "accuracy = history.history['accuracy']\n",
        "#val_loss = history.history['val_loss']\n",
        "#val_accuracy = history.history['val_accuracy']\n",
        "\n",
        "plt.plot(accuracy, 'b-')\n",
        "#plt.plot(val_accuracy, 'r-')\n",
        "plt.title('Model accuracy')\n",
        "plt.ylabel('Accuracy')\n",
        "plt.xlabel('Epochs')\n",
        "\n",
        "plt.legend(['train', 'test'], loc='upper left')\n",
        "plt.grid()\n",
        "plt.show()\n",
        "\n",
        "plt.plot(loss, 'b-')\n",
        "#plt.plot(val_loss, 'r-')\n",
        "plt.title('Model loss')\n",
        "plt.ylabel('loss')\n",
        "plt.xlabel('Epochs')\n",
        "\n",
        "plt.legend(['train', 'test'], loc='upper left')\n",
        "plt.grid()\n",
        "plt.show()\n"
      ],
      "metadata": {
        "colab": {
          "base_uri": "https://localhost:8080/",
          "height": 573
        },
        "id": "mvHaw4v6HGu3",
        "outputId": "e3404cbc-6da3-4d93-b603-60518aa92852"
      },
      "execution_count": 19,
      "outputs": [
        {
          "output_type": "display_data",
          "data": {
            "text/plain": [
              "<Figure size 432x288 with 1 Axes>"
            ],
            "image/png": "[encoded data removed]"
          },
          "metadata": {
            "needs_background": "light"
          }
        },
        {
          "output_type": "display_data",
          "data": {
            "text/plain": [
              "<Figure size 432x288 with 1 Axes>"
            ],
            "image/png": "[encoded data removed]"
          },
          "metadata": {
            "needs_background": "light"
          }
        }
      ]
    },
    {
      "cell_type": "markdown",
      "source": [
        "# Con 16 y 32 filtros en dos hidden layers + 3,3 el tamaño de cada filtro y sin regularizacion (creo q produce overfitting por la grafica, q el loss aumenta en vez de bajar continuamente)\n",
        "\n",
        "Val_accuracy maxima: 0.68  \n",
        "Train_accuracy maxima: 0.82  \n",
        "Val_loss maxima: 1.3  "
      ],
      "metadata": {
        "id": "XJmIMpjvgZrX"
      }
    },
    {
      "cell_type": "markdown",
      "source": [
        "# Con 4 filtros en dos hidden layers + 5,5 el tamaño de cada filtro y con dropout 0.5\n",
        "\n",
        "Accuracy maxima de ~ 0.5 \n",
        "\n",
        "max_acc_val = max(val_accuracy)\n",
        "print('Val_accuracy maxima:',max_acc_val)\n",
        "\n",
        "max_acc_train = max(accuracy)\n",
        "print('Train_accuracy maxima:',max_acc_train)\n",
        "\n",
        "\n",
        "max_loss = max(val_loss)\n",
        "print('Val_loss maxima:',max_loss)\n",
        "\n",
        "\n"
      ],
      "metadata": {
        "id": "i9gtP9DHcyw6"
      }
    },
    {
      "cell_type": "markdown",
      "source": [
        "# Con 16 y 32 filtros en dos hidden layers + 3,3 el tamaño de cada filtro y con dropout 0.3, y primera capa densa con 512 neuronas se produce mucho overfitting\n",
        "\n",
        "Val_accuracy maxima: 0.71  \n",
        "Train_accuracy maxima: 0.97  \n",
        "Val_loss maxima: 2.19  \n",
        "\n",
        "![image.png](data:image/png;base64,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)\n",
        "\n",
        "![image.png](data:image/png;base64,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)"
      ],
      "metadata": {
        "id": "KO0h93Nyxqy0"
      }
    },
    {
      "cell_type": "markdown",
      "source": [
        "# Con 16 y 32 filtros en dos hidden layers + 3,3 el tamaño de cada filtro y con dropout 0.5, y primera capa densa con 256 neuronas se produce menos overfitting\n",
        "\n",
        "Val_accuracy maxima: 0.71  \n",
        "Train_accuracy maxima: 0.87  \n",
        "Val_loss maxima: 1.39  \n",
        "\n",
        "![image.png](data:image/png;base64,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)\n",
        "\n",
        "![image.png](data:image/png;base64,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)"
      ],
      "metadata": {
        "id": "13Mi82gQsRO7"
      }
    },
    {
      "cell_type": "markdown",
      "source": [
        "# Con 16 y 32 filtros en dos hidden layers + 3,3 el tamaño de cada filtro y con dropout 0.5, y primera capa densa con 128 neuronas se produce menos aun overfitting\n",
        "\n",
        "Val_accuracy maxima: 0.7  \n",
        "Train_accuracy maxima: 0.78  \n",
        "Val_loss maxima: 1.35 \n",
        "\n",
        "![image.png](data:image/png;base64,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)\n",
        "\n",
        "![image.png](data:image/png;base64,iVBORw0KGgoAAAANSUhEUgAAAYIAAAEWCAYAAABrDZDcAAAgAElEQVR4nO3deXxU1fnH8U82SAirIEEMIQFRUAibIAgiKMjWqrgWN1CUan8iVEWxbrV116q1Kq5oq1ZcQEHFimhSrIAii4jsKEhA9jXsJOf3xzNjQsgyCbMkc7/v1+u+ZnLvnck5MLnP3LM8B0RERERERERERERERERERERERERERESkiHTAAfEBnDsU+F8Q3kckLGIjXQCREFgFHAAaFNk/D7sIp4e9RCKVmAKBRKufgMGFfm4D1IhQWUQqNQUCiVavA1cV+nkI8K8i59Tx7dsErAbuouBvIg54HNgM/AgMLOa1rwC/AGuB+32vKa/GwGRgK7ACuK7Qsc7At8BOYAPwhG9/IvAGsAXYDswGUirwu0VEotYqoDewFGiFXaBzgKYc3jT0L2ASUMu3bxkwzHfsemAJ0AQ4Bsji8Lb994EXgGSgIfAN8HvfsfL0EUwHnsMu7u2woHSW79hM4Erf85pAF9/z3wMfYnc4cUBHoHbp/yQiIt7iDwR3AQ8B/YDPsIuvPxDEYf0IJxd63e+BbN/zL7Bg4HcOBRfwFGA/kFTo+GAsWEDggaAJkIcFIr+HgNd8z6cD93FkX8c1wAwgs4TfIVIuahqSaPY6cBl2YS7aLNQASMCahPxWA8f7njcG1hQ55tfU99pfsKaZ7djdQcNylq8x1iS0q4QyDANOxO5MZgO/8e1/HfgUGA+sAx71lUekQhQIJJqtxjqNBwATixzbDBzELup+aVh7P9hFvkmRY35rsDuCBkBd31YbOKWc5VuHNTsVviMoXIbl2J1GQ+AR4D2sKeogdqdwMnA6FiAK94eIlIsCgUS7YVib++4i+/OAd4AHsAtxU+BmrBMW37GbgFSgHjCm0Gt/AaYCf8MCQCzQHDiznGVbgzXxPIT1EWT6yusvwxXAsUA+dteB73kvbBRUHNaRfNC3X0REfPx9BEUV7iMAu8C/gXXQrgHuoeDLUTzwJDYy5yfg/zi8k7cOMBbrhN6BzVH4ne9YeTqLU4GPsCailRzeL/EGsBHIBX4AzvftH4x1hO/GRhM9jSaoiYiIiIiIiIiIiIiIiIiISHnERLoA5VW/fn2Xnl6x5JG7d+8mOTk5yCWqGrxad9XbW1Tvks2ZM2czNhz5CFVuyFl6ejrffvtthV6bnZ1Nz549g1yiqsGrdVe9vUX1LllMTMzqko5pQpmIiMcpEIiIeJwCgYiIx1W5PoLiHDx4kJycHPbt21fqeXXq1GHx4sVhKlVoJCYmkpqaSkKCkk2KSHBERSDIycmhVq1apKenExNT8kCoXbt2UatWrRKPV3bOObZs2UJOTg4ZGRmRLo6IRImoaBrat28f9evXLzUIRIOYmBjq169f5p2PiEh5REUgAKI+CPh5pZ4iEj5REwjKsmcPbNpUjUOHIl0SEZHKxTOBYP9+2Lq1Ovv3B/+9t2/fznPPPVfu1w0YMIDt27eXfaKISAh5JhBUq2aPBw4E/71LCgSHyrj9mDJlCnXr1g1+gUREyiEqRg0FIpSBYMyYMaxcuZJ27dqRkJBAYmIi9erVY8mSJSxbtozzzz+fNWvWsG/fPkaOHMnw4cOBgnQZubm59O/fn+7duzNjxgyOP/54Jk2aRFJSUvALKyJSRNQFglGjYP784o/t2uWoVi2G6tXL957t2sFTT5V8/OGHH2bhwoXMnz+f7OxsBg4cyMKFC38d4jlu3DiOOeYY9u7dS6dOnbjwwgupX7/+Ye+xfPly3nrrLV566SUuueQSJkyYwBVXXFG+goqIVEDUBYLSxMZCfhiW+O7cufNh4/yffvpp3n//fQDWrFnD8uXLjwgEGRkZtGvXDoCOHTuyatWq0BdURIQoDASlfXNftCiPmJh4WrUKbRkKp4PNzs5m2rRpzJw5kxo1atCzZ89i5wFUL3SbEhcXx969e0NbSBERn1B2Fo8DNgILSzmnJzAf+AH4bwjLAkB8vAtJH0GtWrXYtWtXscd27NhBvXr1qFGjBkuWLGHWrFnBL4CIyFEI5R3Ba8AzwL9KOF4XeA7oB/wMNAxhWQBISMhn505rHooNYgisX78+3bp1o3Xr1iQlJZGSkvLrsX79+vH888/TqlUrTjrpJLp06RK8XywiEgShDATTgdKWErsMmIgFAbC7h5CKj3cAHDxIuTuMy/Lvf/+72P3Vq1fnk08+KfaYvx+gQYMGLFxYcON06623BrdwIiKlCHW+gnTgI6B1MceeAhKAU4BawN8p+e5huG8jJSWl4/jx4w87WKdOHU444YQyC7NrVwzr1tWkSZM91KiRF2gdKp0VK1awY8eOcr0mNzeXmjVrhqhElZfq7S2qd8l69eo1Bzi1uGOR7CyOBzoCZwNJwExgFrCsmHNf9G2kpqa6okuyLV68OKCsovv377ZfHF+DKpyElMTERNq3b1+u12gJP29Rvb3laOsdyUCQA2wBdvu26UBbig8EQZGQYGNHQ9FhLCJSVUUyxcQkoDsWjGoApwEhXTUmNhbi4qyPQERETCjvCN7Choc2wL7934v1CQA8j130/wMsAPKBlyl9qGlQVKtGSBLPiYhUVaEMBIMDOOcx3xY21arpjkBEpDDPZB/1q1Yt+H0EFU1DDfDUU0+xZ8+e4BZIRKQcPBkIDh2CvCCOHlUgEJGqLOpyDZXFn4764EHrOA6Gwmmo+/TpQ8OGDXnnnXfYv38/gwYN4r777mP37t1ccskl5OTkkJeXx913382GDRtYt24dvXr1okGDBmRlZQWnQCIi5RB9gaCUPNRJeXkkEcdJeyC+BhBoICgjD3XhNNRTp07lvffe45tvvsE5x7nnnsv06dPZtGkTjRs35uOPPwYsB1GdOnV44oknyMrKokGDBuWsqIhIcHiuaSjWN5fahSgd9dSpU5k6dSrt27enQ4cOLFmyhOXLl9OmTRs+++wzbr/9dr788kvq1KkTmgKIiJRT9N0RlPLNfe+uXSQn12LpXGjc2LZgc85xxx138Pvf//6IY3PnzmXKlCncddddnH322dxzzz3BL4CISDl5744gFhISgjtyqHAa6r59+zJu3Dhyc3MBWLt2LRs3bmTdunXUqFGDK664gtGjRzN37twjXisiEgnRd0cQgGAPIS2chrp///5cdtlldO3aFYCaNWvyxhtvsGLFCkaPHk1sbCwJCQmMHTsWgOHDh9OvXz8aN26szmIRiQjPBoJgLwBWNA31yJEjD/u5efPm9O3b94jXjRgxghEjRgS3MCIi5eC5piEouCNwLtIlERGJPM8Ggvz84E4qExGpqqImELhyfL1P8KW+q4rpqMtTTxGRQERFIEhMTGTLli0BXyT9y1RWtUDgnGPLli0kJiZGuigiEkWiorM4NTWVnJwcNm3aVOp5+/btIzExkbw82LzZmoeq2kpliYmJpKamRroYIhJFoiIQJCQkkJGRUeZ52dnZtG/fnvx86NABbr4ZHn44DAUUEanEoqJpqLxiYyE1FdasiXRJREQiz5OBAKBJEwUCERHweCD4+edIl0JEJPI8GwjS0mDtWs0lEBHxbCBo0sRWKlu/PtIlERGJLM8GgrQ0e1Q/gYh4nWcDQZMm9qhAICJe5/lAoA5jEfE6zwaCunWhZk3dEYiIeDYQxMRoCKmICHg4EIB1GOuOQES8ztOBQLOLRUQUCNiwAfbvj3RJREQiJ5SBYBywEVhYxnmdgEPARSEsS7H8cwlycsL9m0VEKo9QBoLXgH5lnBMHPAJMDWE5SqS5BCIioQ0E04GtZZwzApiA3TmEnf+OQCOHRMTLItlHcDwwCBgbqQL4F/rSHYGIeFkkVyh7CrgdyA/g3OG+jZycHLKzsyv0C3Nzc494bZ06pzNr1mays5dV6D2riuLq7gWqt7eo3pVTOiV3Fv8ErPJtuVjz0PllvWHHjh1dRWVlZR2xr0MH5/r3r/BbVhnF1d0LVG9vUb1LBnxb0nU1kncEhRcZfg34CPgg3IVo0gRWrgz3bxURqTxCGQjeAnoCDYAc4F4gwXfs+RD+3nJp0gSysiJdChGRyAllIBhcjnOHhqwUZUhLg507batdO1KlEBGJHE/PLAbNJRAR8Xwg0FwCEfE67wSCH34g4+WXYdeuw3Y3a2aPixZFoEwiIpWAdwLBypU0ffNNWHj4aNZGjaBlS/j88wiVS0QkwrwTCNq2tcfvvjviUO/e8N//woEDYS6TiEgl4J1AkJbGoeRkWLDgiEN9+sCePTBzZgTKJSISYd4JBDEx5DZvXuwdwZlnQlwcTJsWgXKJiESYdwIBsLtZM/j+e8g/PL1RnTrQuTN89lmECiYiEkGeCgS5zZvbqKHVq4841qcPzJ4N27dHoGAiIhHkrUDgHytaQodxfr7STYiI93gqEOzOyICYmGI7jLt0gZo11U8gIt7jqUCQn5QEJ5xQ7B1BQoJ1GqufQES8xlOBAIDMzGLvCMD6CZYvL7YLQUQkankvELRtawsQ5OYecah3b3tU85CIeIn3AkFmJjh3RKoJgJNPhuOOUyAQEW/xXiDwp5oopnkoJsbuCqZNO2KqgYhI1PJeIGjaFGrVKrbDGKyfYPPmErsRRESijvcCQUxMqR3GZ59tjxo9JCJe4b1AANY8tGCB9RUU0bgxnHKK+glExDu8GQgyM22R4hLGifbuDdOnw759YS6XiEgEeDMQlNJhDNZPsG8fzJgRxjKJiESINwNB69b2WEKHcY8eEB+vfgIR8QZvBoKaNaF58xLvCGrVgq5d1U8gIt7gzUAABR3GJejdG+bMgS1bwlgmEZEI8G4gyMy0xEK7dxd7uE8fG1SktNQiEu28GwjatrUr/Q8/FHu4UydbuWzSpDCXS0QkzLwbCDIz7bGEDuP4eLjiCnjnHdi4MYzlEhEJM+8GgvR06xUupZ/gxhvhwAF48cUwlktEJMy8GwhiY6FNm1IDQcuW0LcvjB0LBw+GsWwiImEUykAwDtgIHJnv2VwOLAC+B2YAbUNYluJlZlrTUDGpJvxuugnWrYOJE8NYLhGRMAplIHgN6FfK8Z+AM4E2wF+B8DfAtG0LO3bAmjUlntKvn61u+fTTYSyXiEgYhTIQTAe2lnJ8BrDN93wWkBrCshSvjA5jsBakESMs3cS334apXCIiYRQf6QL4DAM+KeX4cN9GTk4O2dnZFfolubm5h702bs8ezgB+nDSJn2vVKvF1zZvHkZTUlTvv3Mwddyyp0O+OtKJ19wrV21tU78opnZL7CPx6AYuB+oG8YceOHV1FZWVlHbmzWTPnLr64zNfeeKNz1ao5t359hX99RBVbdw9Qvb1F9S4ZUGKbRqRHDWUCLwPnAZFJ5lDKIjWFaSipiESrSAaCNGAicCWwLGKlaNvWUk3s2VPqaSedZB3HY8daQBARiRahDARvATOBk4AcrB/get8GcA/WHPQcMJ9SbltCKjPTVqovIdVEYTfdBL/8AhMmhKFcIiJhEsrO4sFlHL/Wt0VW+/b2+OWXlmCoFH37QosW8I9/wOCyaiciUkVEuo8g8jIybPGBF18sdWIZ2FDSG2+EmTNh9uwwlU9EJMQUCABuuAGWLg0o5/TQobauzVNPhaFcIiJhoEAAcPHFUL8+PPdcmafWrm1x4623dFcgItEh0EAwEqgNxACvAHOBc0JVqLBLTIRrroEPPrDEQmW46y5ISYE//AHy8sJQPhGREAo0EFwD7MQu/vWwIZ8Ph6pQEfH739tV/aWXyjy1dm34298s5cQrr4ShbCIiIRRoIIjxPQ4AXgd+KLQvOjRvbhMFXnwxoJzTgwfDmWfCHXdoXWMRqdoCDQRzgKlYIPgUqAXkh6pQEXPDDdY09OGHZZ4aEwPPPGPJS//0pzCUTUQkRAINBMOAMUAnYA+QAFwdqkJFzMCBkJZm04cD0Lq1TTJ76SVlJhWRqivQQNAVWApsB64A7gJ2hKpQERMXB8OHw7RpsCywrBd//nNBx3F+9N0jiYgHBBoIxmJ3Am2BW4CVwL9CVaiIGjYMEhLg+ecDOr12bXj8cRtKqo5jEamKAg0EhwCHZQl9BngW6yeIPo0awQUXwKuvlpmIzu+yy6BHD3Uci0jVFGgg2AXcgQ0b/dj3uoRQFSribrgBtm+Ht98O6HR/x/H27XDnnSEum4hIkAUaCC4F9mPzCdZjy0o+FqpCRVyPHnDyyQHNNPZr08aWtHzhBfjooxCWTUQkyAINBOuBN4E6wG+AfURrHwHYV/wbbrChQOXII/Hgg9ChA1xxhS1xICJSFQQaCC4BvgEu9j3/GrgoVIWqFK68EpKT4b77ysxK6peUBBMnQny8dTPk5oa4jCIiQRBoILgTm0MwBLgK6AzcHapCVQp16sD998PHH8O4cQG/rGlTS0i3aBFce23AMUREvGzHDst19n//B1262MiTn34K268PNBDEAhsL/bylHK+tum66Cc46C0aOhJUrA35Znz7wwAPW1/zkkyEsn4hUTfn58NVXcO+9cPrplv140CD45z/t2+OjjxakvfngAzh0KKTFCfRi/h8stcRQ3/YxMCVUhao0YmNtGGl8PAwZUq5Uo7ffbv+vt90W0DIHIuIFW7daxsoWLaB7d2t1yMuDMWMgO9uOf/01rF4N99wDCxfahaRpUwsaa9aEpFiBBoLRwItApm97Ebg9JCWqbNLS4NlnLXo/FvhAqZgYeO01+/++9NKQ/f+JSFUwb561FR9/PNx6qz2++SZs3mwX/vvvtyyW1arZ+amplrZg1Sq7I2jbFv76V3jiiZAUrzxrFk/wbd5z2WUwebJF6L59C9Y5LkPt2vD++9C5M1x4IUyfbksfiIgHOGfXjUcfhRkzoEYNuOoq6wfIzAzsPeLj4bzzbPvpp4JAEWRl3RHswtYhKLr593tDTIwlomvQwMaG7tsX8EtbtrRmv9mzLZ5oIRvxpGXL4PvvI12Ksjln39huuw3mzKn4+0yfDt26wfnnw4YN1lm4dq1NNAo0CBSVkWF3EiFQViCoha1MVnTz7/eOY46x/oJFi8qdd3rQIFvj+P33bXqCRhKJp2zfbs0eZ5xhF8PKKC/Pxn537Wplfewx6NTJFikPYNXCXy1YYFmMzzwTfv7ZUhMvWQKjRkHduqEr/1GK/pE/wdS3r93WPfkkfP55uV46cqSNCHvpJWthEvGMO+6AjRvhwAFbCbAyfRPat8/+KE8+2dpvN22yjALr1llb/ltvWUffX/5Scu6xgwdh/nybe9SunTUDPfKIzSq99lpr3qnkKn8JK5tHH7U01eeea734f/yjZSsNwAMP2N/D/fdDw4aWkkIkqs2caZl8R42C9HR7fP11ayuPhB074LvvrPN23jz49FNYv95SArz9ts0E9V+4H33UAteYMfa3/uKL9kd83HH2zX/BAmvuWrTIglxiojUp3X471KsXmfpVkAJBedWoYYFgxAj7D//Xv+yD3r17mS+NibFTt2yxKQoNGtiSlyJR6eBBW9+jSRMb8VKjBrz7rt0e9+ljF9RwmDLFJoXOmwc//liwPyXFJm+NGGHzhWKKWX23eXMr85dfws03W1ORX+PG1t5/zjmWbOzss8NXpyBTIKiI1FRr8J882T5EZ5wB11xjt4MNGpT60vh4+Pe/bZ7IkCE2j+Scc8JUbpFw+tvfbBz8pElQs6btGzfOhkJef70Niyzu4hsszsFDD1lK4NRUu+gPG2bNN+3bl++ifcYZNszzs8+genW78NevH7qyh5n6CI7GuefabaH/zqBlS5s8UEYbaFKS/W20amV3orNmham8IuGycqXl6brgAvs78TvxRGsbnTzZ2t9DZd8+a7O/8064/HJrr3/3XRvoMWBAxb65x8ZaP2HPnlEVBECB4OglJ8PDD9ttZ6tWcPXV1q544ECpL6tbF/7zH7s77dfv6EaqiVQqztnarQkJ8PTTRx4fNaqgSWbDhiOPb9pkk6m6dIG77ip/Kt/166FXL5uw9cAD1iehCTylUiAIltat4b//tW8cL70EvXvbB7oUxx0HX3xhQeGcc6wPS6TKGz8epk61i3Bx497j4qyJaPduCxj+O+jly218dVqa3U3s22dNOyeeaH1wL78MO0ufvlRzxQqbwblgAUyYYH+PoWx+ihKh7CMYh61dsBFoXczxGODvwABsPeShwNwQlif0YmPtw9+6tfUZdOpkt8ClTCBp2tSCwZlnWuzIzoZTTgljmUWCaetW+8bfqZNd5EvSqpVd7MeMsb+ZuXOtzyAhwUYU3XyznbNunX2jf+01uO46G2UxaJB14larZuf7H3fvpv2f/2z9dP/7X8AZACS0egAdgIUlHB8AfIIFhC7YGgdl6tixo6uorKysCr+23L75xrnGjZ1LTnbu/ffLPH3ZMueOO865lBTnliwJfnHCWvdKRPUOo/x8566+2rm4OOfmzSv7/IMHnevUyTlwrl495+6807lffin5vWfNcu7665075hh7TTHbjlatnFu3Lrj1qgIC+f8Gvi3puhrKpqHpwNZSjp+HrXLmgFlAXaBqjr0qTqdOllfilFPsG8xf/1pqKtkWLWyOmnM2kq0cWa9FIi8/376tv/oqjB5tI3PKEh9vzTevvWazcO+/Hxo1Kv7cmBg47TRL9bJli/2+AweseWn7dpugs24dc595psoO4YykUDeepQMfUXzT0EfAw8D/fD9/jmU0LS5qDfdtpKSkdBw/fnyFCpObm0tN/zC2MIndv5+THn+clGnT2JeSwtpBg/hl4EAOlVCOn35KZtSodiQl5fHkk/M57rjA8xqVJhJ1rwxU79CLOXiQlg8/TMoXX7Dm4otZef311kwaAfr/LlmvXr3mAKeGp0SHS6fkpqGPgMKzsD4ngEJWmaahwvLznZs82bmePe0WtmZN50aOdG7lymJPnzfP7pTr1nXutdfs5UdLTSTeErZ679rl3Dnn2Of6kUeC82E9Cvr/LhmlNA1FckLZWqBJoZ9TffuiT0wM/Pa3ts2bZ7mKnn0W/vEPG2Odlga7dv26tdu1i19ScnnxwNUMHTqKd96xpIWpqZGuiFQJ06ZRfdu20P+ezZstwdqcOTYK6OqrQ/87JSQiOXx0Mrb+sb+zeAfwSwTLEx7t29vks9WrbcTEjBnWRjp1qs3C3LoVEhOpHpfHjWtu4193Lft1JNG4cZUrX5eEwZYtNhwzPz+w8ydOhD596HjddZYKOVR+/tmGdC5YYL9TQaBKC2UgeAuYCZwE5ADDgOt9G9hSlz8CK4CXgFLGmkWhxo1t2NyGDZYIKycHFi+Gb76xXuNp04hJTOTKb0ey4DtH+/Y2O75/f/sbFA/Iz7dkVIMHB5b6fPlyuyB36MCh2rUt980LLwSvPNu2WWqVESNsrP769fYFpvDMYamSQtk0VFY6NQf8Xwh/f9XWqJGNs775Zpov+pAvvjiXsWMtm0XbtjY44/zzI11ICamxYy23Tfv2lscqI8NmrRdnzx646CIbiTNxInO//57uzz5rOX2++w7+/vfis+Tu3Qsff2zf7JOToVatw7cDB2yi5Oef21j//HxLHnfmmVamNm1C+28gUpwq2VlcUQcOOHfyyc5lZDi3Z49zzrkVK5w79VTrmxs50rn9+wN7qypX9yCpsvVessS5pCTn+vWz8fYDBjgXG+vcxx8feW5+vnNDhzoXE+PcJ58453z1PnTIudGj7cPSs6dzmzbZ+QcPOvfpp84NGeJcrVoljsn/dYuPd657d+fuvde56dMD/9BFQJX9/z5KVbmzWMqSkGAdymefbSsm3XMPzZvbpMnbbrMveTNmWBr1jIxIF9aj9u61LILBdOiQza5NSoJXXrFv+W+/DT16wCWXWErkwrNmX3nF+pnuuccSV/nFxVlO/cxMWyClUydLuPbeezbuvk4duPhiW0P1zDNh//6CQQu5ufaYnw+nnlqQPVSkMvDUHYHfJZc4l5jo3E8/HbZ7wgTn6tSxbeLE0t+iytb9KAW13gcPOjdnjnP/+Idzgwc717SpfWM++WTnRo2yb+u5uUf/e/7yF3vft98+fP/atc41aWJT0Fevtn1z5zpXvbpzffrYHYDPEfX++mub6Z6Y6NxFF9kHZu/eoy9rJaPPecnQHUEV9/jj8NFHln9l4sRfd19wgX0xvPRSez5ihOXoSk6OYFkru61bber2jh026qVbN3s8+eTDJ0Ht32+d9/6VqObMsY58/3KFxx8Pp59u39y//tpWHHrqKct7062bLbzStavNsC3PWrVz5tiyiJddZt/+C2vc2BZZ6dbNhm1+9JH1Cxx7rGXajIsr+X07d4ZVq6zNXx8QKUKBoCpo0gTuvtvWfv30U8uJ7pORcXhT0Ycf2pKr/ftHsLyV1f79lu5j8WJrIpk2Dd54w47VrWsX9rp17cK/ZElBSpDEROsUvfZaO+f00+3/pLC9e+0/4rPPbCRN4VE+GRkWsf1bly7F57Pfu9dy6KekwDPPFF+H1q0tLUP//ha8DhywYaLHHlt2/RMSAl5WVbxFgaCq+OMfbSLBiBG2Tmr16r8eqlbNvoxecIENKhk0YB9jen3DLZ2/pNb8L2HpUtJ697ZvkpX9QnDokHVRBrucztmFfPp0WyJu8GDb9+OP8NVXdhH/3/+sbTwz04ZEZmbaEK0TTih7AfKkJLsL6NPH2uU3bbJRNvPmFTz67+ZiYqzdvW9f27p0sfe/804LUlOnlr7mbe/etn7usGEW/bt2Dd6/k3iSAkFVUb26LfLRvz/ceKN1/OXl2YUzLw/y8uixaRM/HPMV+XHfEJ91ALJg63GnUO+kdJq9/LI1Ybz4ol14wiUvr/Qmi8K2brWL3KpVtqrUNdcEL5XwfffZt//77y9YKDomxtIZN28e/MXUjz224ELvt3MnzJ8PWVl2Z/fgg1aeOnUsSE+ZYv+3ffqU/f5XX213N+VpdhKJFp7sLC7sd78rfZjfaac5d+utbu3YSW5Qj80OnOvSxbkPhz/hXGqqDTH8wx+c2769fL/3wAHrcJwzJ7Dz8/OdezktbQgAABOLSURBVOEFS8N9553O5eWVfv7Wrc516GAdn+efb4/gXLt2zj39tHObN5evvD5ZWVnO/fOf9l7XXBPxXDiH2brVuXffde7aa60TuE0b53bvDspbR8VnvQJU75JRSmdxleP5QJCf79zPP9sIkvXr7QK5bZtzO3faxbrIqa+/7lzDhnYdvPCcnW7D4JssGDRu7Nx77x020uQwu3c798UXzt13n3Nnn20XdH/Aue46+30l2bvXuWHD7NyMDHu89NJf50IcYft2y0tfrVrBOPktW5x75hkLDmDHrrrKuY0by/XPNe/JJ51LSLA6FPn3iWZR8VmvANW7ZCgQBP6PFY1yc5277rqVrl49u6beftY3bu9JbQsu7HFxztWoYSlPU1KcS0uziydY0Gjb1rkbb7ThjKNH2770dAsURa1eXTDj7c47LdA8+qj93LWrcxs2HH7+zp22Pz7eMrQWZ/5850aMsGCQkuLchx8GVvFFi9yBmjVteOe2beX7R6vivPpZV71LhgJB4P9Y0SorK8tt2+bc3XdbFuyEmIPupW6vum03/8Uu2Lfeahfb4cNtxumYMfbtvLgL6FdfOdeihV3cR4woaM744gvnGjSw2apFV2WbMMFmymZkOPfDD7YvN9e5M86wQDRhQtmVWLDAucxM+73Dh1sK5OJs2+bc2LHONWni9terd8T8Cy/w6mdd9S4ZCgSB/2NFq8J137jRuVtusblFNWo499BDFcgasHu3czfdZBflE05w7vbb7YLeqlXJa21+841zjRrZDLjJk53r1cvSJhSdOFWaffucu+02uytp3ty5GTNsf36+c9nZzl15pVUMnMvMdLOff76cFYsOXv2sq94lI0JLVUoldeyxNkdtyRIb1HLHHTZSctq0crxJjRo2dDE720YGPfKIZcH7+ms46aTiX9Opkx1v0sSGZ2ZnW0ruohOnSlO9uv2u7GwbMdW9OwwZAieeCD17wqRJMHSoLRM6fz65JZVFRH6lQOBhTZva0PYpU+ya2qePXZNzcsrxJmeeadktp02Dd9+1jJWlSUuzcfvXXQdvvWXDRCuiRw+b+HXVVRZMjj/eHn/5xbJ2nnqqDQ8VkTIpEAj9+9uaOH/9q81MbtnSnm/fHuAb1KplifECvfDWrm3zGS69tMJl/vV9Xn3VZtdmZ9us3Bo1ju49RTxIgUAAy6Jw1102sfWccyyRZdOmtm/z5kiXrgyVfba0SCWnQCCHSU+35qK5cy0gPPigBYSbb4Z16yJdOhEJBQUCKVb79tbk/8MPcOGFlt0iI8MWvFq+PNKlE5FgUiCQUrVqZX2wy5bZYJxXX7VBQYMGWZ+vc5EuoYgcLQUCCUizZrYO+urVliRz+nQbuXn66ZYVOS8v0iUUkYpSIJByadTIRhT9/DM8+6xlW77oIhvG//e/W4JNEalaFAikQpKT4Q9/gKVL7Y6gUSMYNcrmit18M/z0U6RLKCKBUiCQoxIXZwvifPWVTRoeOBD+8Q9by+XCC60JSf0IIpWbAoEETefOtvjXTz/Z0plZWTbxOC0NbrjBZjDv2xfpUopIUQoEEnSpqfDQQ7BmjY0yOvVUG3k0cKAt1Xv++fDKK+pPEKksFAgkZJKTbcjp++/Dli12RzBkCMyZY8sHn3KKLc8rIpGlQCBhkZhoOY2ee85GHE2fDjVrWvbT66+HXbsiXUIR71IgkLCLiYEzzrA0FrfcYvnnMjMtb5yIhJ8CgURMUpKtizB9uo0+6tULbroJdu+OdMlEvCXUgaAfsBRYAYwp5ngakAXMAxYAA0JcHqmEune3JQ1uvNGGntata6ktLrgA/vQneP11+PZbBQiRUIkP4XvHAc8CfYAcYDYwGVhU6Jy7gHeAscDJwBQgPYRlkkoqOdmCwO9+Bx9/bKunLV5s6yMcOmTnJCRYk9LAgfCb39hsZhE5eqEMBJ2xO4EffT+PB87j8EDggNq+53UAJTr2uG7dbPM7eBBWrrSgMGuWBYlbbrHthBMsKJx7rjUraUEykYoJ5Z/ORVjT0LW+n68ETgNuLHTOccBUoB6QDPQG5hTzXsN9GykpKR3Hjx9foQLl5uZSs2bNCr22qoumuq9fn8jMmcfw9df1mTu3HgcPxtKu3TZGjFhBs2aHtx9FU73LQ/X2lkDq3atXrznAqeEpUYGLgJcL/Xwl8EyRc24GbvE974rdLZTab9GxY0dXUVlZWRV+bVUXrXXfvdu5555z7phjnIuLc27ECOe2bSs4Hq31Lovq7S2B1Bv4tqTraig7i9cCTQr9nOrbV9gwrI8AYCaQCDQIYZkkytSoYekrli2D4cMtI2qLFvDyy5CfH+nSiVQNoQwEs4EWQAZQDfgd1llc2M/A2b7nrbBAsCmEZZIoVb++TVabMwdatoTrroPTToM330xj4kRbaW3//kiXUqRyCmUgOIT1B3wKLMa++f8A/AU413fOLcB1wHfAW8BQrANZpELatbN5CW++Cdu2wcsvN+PCC6F1a7t7aN4cBgywNRUWLFBmVBEI7aghsOGgU4rsu6fQ80VAN0SCKCYGLrvMto8//pKUlDNYupRft8WL4Z57bGva1EYdnXce9OhhQ1RFvCbUgUAkopKT8zj1VMuAWtj69fDRRzBpErz0ks1hqFMH+vWznEh9+9piOyJeoEAgntSokWVAvfZam7E8bZoFhSlT4O237Zz27S0o9OsHXbtCvP5aJEop15B4XnKyNQ2NGwfr1lkyvAcesOyojzxiTUYNGsCll9q6Cps0nEGijL7jiBQSG2t3Au3bW56j7dvh88/tTmHKFHjnHeuD6NzZOp1/8xs7V7OapSrTHYFIKerWtbWXX3kF1q614an33WfH/vxn6NjROpxvusmW5vTnRRKpShQIRAIUGwsdOsDdd1veo/XrbSnODh2sw/mss6zv4eqrYfJkyM2NdIlFAqOmIZEKatjQluIcOtQ6nD/91Jbl/OADeO0161w+9VTo2dO2bt2s30GkslEgEAmC5GRbP+GCCyxj6vTp8MUXtura44/Dww/b4judOllzUosWlj21RQtIT4dq1SJdA/EyBQKRIEtIgLPPtg3sbmHGDAsK2dm20M7OnQXnx8VZP0OzZvaYllbwmJYGTZooUEhoKRCIhFhyMvTpYxtYWovNm2H5clixouBx5Upbb2H9+sNfn5gIF19scx7OOEMjlCT4FAhEwiwmBo491rbTTz/y+L59kJMDP/8Mq1dbx/Rbb9mdxIknwrBhMGQIpKSEv+wSnTRqSKSSSUy0/oOzzrIRSC+8AL/8Yh3QDRvC7bdDaioMGgRvvKEJbnL0FAhEqoDkZLsL+PJLS5o3ahTMnAlXXml3BqedZvMbZs/WOgxSfmoaEqliWraExx6z9Bfz5hXMer7vPpvkduyx0LBhe9LSbEJcnToFjyedZJ3YtWuX/XvEOxQIRKqo2Fgbitqxo01y27zZ5jJMnQoLF+azaZN1RO/YYakyDh6018XHW99Ev362tW1r7yXepUAgEiUaNIDLL7ctO/s7evbs+esx52DvXvj2W/jPf2z7059sS0mxYAKWIsO/5eVZf8V551nCvYYNI1QxCTl9DxDxgJgYW6GtRw948EHLsOrvgO7Z07Kubthgdw/799v51avbvptugsaNYeBAGD8e9uyJdG0k2HRHIOJRjRpZB/SQIaWft3ChjU56800YPNjSZFxwgWVgbdHCtrQ0mxgnVZMCgYiUqnVrS5Hx4IOWOuP112HCBFubwS8hwWZGt2gBp5xia0e3a2c/K0BUfgoEIhKQ2NiCBHovv2xNS/6Z0f5t2TLrsPZ3TCclQZs2FhRaty7IsZSerhXfKhP9V4hIucXEWL9B48bW71DYgQM212H+fPjuO3t891148cWCc+LjISPDAkNqqv0cF1ewxcZaE9T550NmZnjr5kUKBCISVNWq2ZDUtm0L9jlnHc9F7yBWrLCRTHl5R24HDsC999oKcEOHwmWX2cgoCT4FAhEJuZgY65xu1Ai6dw/sNVu2WI6l116DkSPh1lvht7+1zu2ePTUpLpgUCESkUqpfH2680bbvv7eA8MYbMHGiHc/IsGajwtv+/bE4pwyt5aVAICKVXps28Le/2eilrCxbO3rBAuuD+PDDwvmVepCQYOk0Cm/p6dCrl22pqZGsSeWkQCAiVUZCApxzjm1+e/da5/SCBfDVVz9Sv34zduzgsG3yZFtfGqyD+qyzbDvjDGuu8vodhAKBiFRpSUnQoYNt6ek/07NnsyPOyc+35qUvvrDt3/+29N4A9epZIr/CW9OmsHGjrQexalXB45o1dv4JJxRszZvbY+PGVTdnkwKBiES92NiCkUx//KPlUpozx1J5L10KS5bAJ58U3DUUfW2TJta81L07bN1qdx+TJhXMlwALSP51qFu0sEWE/GtS169vKT4qq1AHgn7A34E44GXg4WLOuQT4M+CA74DLQlwmEfG4+Hhbw+G00w7fv327BYbVqy0ZX3o6HH988ZPfDh2yO4SVKw9fdvSHH6zfonCQAEvgd8wxFhTq17e0HMOHQ7duoatnoEIZCOKAZ4E+QA4wG5gMLCp0TgvgDqAbsA1QfkMRiZi6dYsPEMXxT4rLyIDevQ8/duiQLTW6bJkFiy1bCratW+3xww8tTUfXrjB6NJx7bsnpOPLyYNEim2SXkXH09TyiLsF/y191BlYAP/p+Hg+cx+GB4DosWGzz/bwxhOUREQmL+HjLvdTsyO6KX+3ebU1RTzxhSfxatIBbboGrrrJ1q2fNsqarmTPh669h1y6bS/HYY8Evbyi7No4H1hT6Oce3r7ATfdtXwCysKUlEJOolJ9sciWXL4O23bZjr9dfbCnPHHAMDBsADD9ia1JdfDv/8p50fCqEcNHURdmG/1vfzlcBpQOGqfAQcxPoJUoHpQBtge5H3Gu7bSElJ6Th+/PgKFSg3N5eaNWtW6LVVnVfrrnp7S1Wut3Pw3Xd1mTatIY0a7eOUU3bSsuUukpLyynxtIPXu1avXHODUIBU3YF2BTwv9fIdvK+x54OpCP38OdCrtTTt27OgqKisrq8Kvreq8WnfV21tU75IB35Z0XQ1l09BsrDM4A6gG/A7rLC7sA8C/nl4DrJnoR0REJGxCGQgOYc1AnwKLgXeAH4C/AOf6zvkU2IJ1IGcBo30/i4hImIR6HsEU31bYPYWeO+Bm3yYiIhFQRSdEi4hIsCgQiIh4nAKBiIjHKRCIiHicAoGIiMdVxeUYNgGrK/jaBsDmIJalKvFq3VVvb1G9S9YUODYMZan0SpxZ5wFerbvq7S2qdwWoaUhExOMUCEREPK6EZRCi2pxIFyCCvFp31dtbVG8REREREREREREpqh+wFFtHeUyEyxJK47C1nxcW2ncM8Bmw3PdYLwLlCrUmWCrzRVi685G+/dFe90TgG+A7rN73+fZnAF9jn/e3sTVBolEcMA9b7RC8Ue9VwPfAfAqGjUb75zwo4oCVQDPsg/EdcHJESxQ6PYAOHB4IHqUg+I0BHgl3ocLgOKzeALWAZdj/cbTXPQbwr1GYgF0Eu2Drf/zOt/954IbwFy0sbgb+TUEg8EK9V2ETyAqL9s95UASybGY0SefwQLAUu1Die1wa9hKF3ySgD96qew1gLrY2+GYK1hsp+vmPFqnY8rZnYYEgBm/Uu7hAcFSfc6/MIzgeWFPo5xzfPq9IAX7xPV/v+zmapQPtsW/HXqh7HNZMsBFrFlgJbMdWCYTo/bw/BdwG5Pt+ro836u2Aqdhw0eG+fUf1OQ/1CmVS+TjfFq1qAhOAUcDOIseite55QDugLvA+0DKyxQmL32CBbw4F6557RXdgLdAQC/xLihwv9+fcK4FgLdaZ6Jfq2+cVG7DbxV98jxsjW5yQScCCwJvARN8+r9Qd7NtwFtYkUhf7+z5EdH7eu2Frnw/AOsxrA38n+usNBXXaiAX+zhzl59wrTUOzgRbYiIJqWGfS5IiWKLwmA0N8z4dg7efRJgZ4BVgMPFFof7TX/Vjs4geQhPWLLMYCwkW+/dFY7zuwC3069vf8BXA50V/vZGwwhP/5OVh/YLR/zoNmADaSZCVwZ4TLEkpvYd8KDmJtpMOwttPPsaFl07ChZtGmO3Y7vABrL5+P/Z9He90zseGTC7ALwj2+/c2wYaUrgHeB6hEpXXj0pGDUULTXuxk26tE/XNh/LYv2z7mIiIiIiIiIiIiIiIiIiIiIiIhIiORRMPR0PsHNUls0/5NIpeGVmcUigdiLpWoQ8RSvzCwWORqrsDS/32OTlU7w7U/HZrQuwCbzpPn2p2BT//0Tf0737Y8DXsImAk3FZgID3ISto7AAGB/CeoiISBmKNg1d6tu/ioIZnFdRMIv1Qwqm9V8DfOB7/jaW9A7s4l8HCxqHKLjjeAe4wvd8HQUzYP3pIkREJAJyS9i/CpvaD5bYbovv+Wbfz/79m33PN3FkaoN0bPq/3+3AXb7n/wHewwJDTUTCTE1DIoFxJTwvj/2FnudR0Ec3EHgWW2FtNuq7kzBTIBAJzKWFHmf6ns+gYFnEy4Evfc8/p2CJRH/TUEliKVhv+XbfuborkLDSNw+RAklY34DffygYQloP68zdDwz27RsBvAqMxpqDrvbtHwm8iGV+zcOCgn/1qKLigDewABADPI2tKyAiIpVIcWvEikQNNQ2JiIiIiIiIiIiIiIiIiIiIiIiIiHjK/wOlKKSKgDwnLgAAAABJRU5ErkJggg==)"
      ],
      "metadata": {
        "id": "BeTssQCyxWTw"
      }
    },
    {
      "cell_type": "markdown",
      "source": [
        "# Con 32 y 64 filtros en dos hidden layers + 3,3 el tamaño de cada filtro y sin , y primera capa densa con 128 neuronas se produce muchisimo overfitting\n",
        "\n",
        "Val_accuracy maxima: 0.7  \n",
        "Train_accuracy maxima: 0.98  \n",
        "Val_loss maxima: 3.8  \n",
        "\n",
        "![image.png](data:image/png;base64,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)\n",
        "\n",
        "\n",
        "![image.png](data:image/png;base64,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)"
      ],
      "metadata": {
        "id": "G4voEBErzMTm"
      }
    },
    {
      "cell_type": "markdown",
      "source": [
        "# Con 32, 64, 128 filtros en tres hidden layers + 3,3 el tamaño de cada filtro y con droput 0.5 , y primera capa densa con 128 neuronas se produce ? overfitting\n",
        "\n",
        "Val_accuracy maxima: 0.74  \n",
        "Train_accuracy maxima: 0.9  \n",
        "Val_loss maxima: 1.44  \n",
        "\n",
        "![image.png](data:image/png;base64,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)\n",
        "\n",
        "![image.png](data:image/png;base64,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)"
      ],
      "metadata": {
        "id": "bYarvCUk1sbC"
      }
    },
    {
      "cell_type": "code",
      "source": [
        "max_acc_val = max(val_accuracy)\n",
        "print('Val_accuracy maxima:',round(max_acc_val, 2))\n",
        "\n",
        "max_acc_train = max(accuracy)\n",
        "print('Train_accuracy maxima:',round(max_acc_train,2 ))\n",
        "\n",
        "\n",
        "max_loss = max(val_loss)\n",
        "print('Val_loss maxima:',round(max_loss,2 ))"
      ],
      "metadata": {
        "colab": {
          "base_uri": "https://localhost:8080/"
        },
        "id": "uSOebX-XgXaU",
        "outputId": "02576675-f1dd-41ae-9b6f-a40aee0df8aa"
      },
      "execution_count": 83,
      "outputs": [
        {
          "output_type": "stream",
          "name": "stdout",
          "text": [
            "Val_accuracy maxima: 0.74\n",
            "Train_accuracy maxima: 0.9\n",
            "Val_loss maxima: 1.44\n"
          ]
        }
      ]
    },
    {
      "cell_type": "code",
      "source": [
        "from google.colab import drive\n",
        "drive.mount('/content/gdrive')"
      ],
      "metadata": {
        "colab": {
          "base_uri": "https://localhost:8080/"
        },
        "id": "_QtVbCyp8Cqa",
        "outputId": "8b04818e-124e-455f-b49a-ccf33a4bc740"
      },
      "execution_count": 84,
      "outputs": [
        {
          "output_type": "stream",
          "name": "stdout",
          "text": [
            "Mounted at /content/gdrive\n"
          ]
        }
      ]
    },
    {
      "cell_type": "code",
      "source": [
        "%cd '/content/gdrive/MyDrive/AtecneaYTB'"
      ],
      "metadata": {
        "colab": {
          "base_uri": "https://localhost:8080/"
        },
        "id": "LO_Orq2t8hrC",
        "outputId": "a0d33e5d-21df-4f4f-b341-699d81682eb4"
      },
      "execution_count": 85,
      "outputs": [
        {
          "output_type": "stream",
          "name": "stdout",
          "text": [
            "/content/gdrive/MyDrive/AtecneaYTB\n"
          ]
        }
      ]
    },
    {
      "cell_type": "code",
      "source": [
        "!ls"
      ],
      "metadata": {
        "colab": {
          "base_uri": "https://localhost:8080/"
        },
        "id": "t3eRUc3N8m0j",
        "outputId": "9b47b54a-2904-4ed7-d8c2-9e6343015f14"
      },
      "execution_count": 88,
      "outputs": [
        {
          "output_type": "stream",
          "name": "stdout",
          "text": [
            "CNN_Keras.ipynb  modelo\n"
          ]
        }
      ]
    },
    {
      "cell_type": "code",
      "source": [
        "!mkdir modelo"
      ],
      "metadata": {
        "id": "2mqUYyYk8ZaK"
      },
      "execution_count": 87,
      "outputs": []
    },
    {
      "cell_type": "code",
      "source": [
        "# Guardar modelo\n",
        "import os \n",
        "\n",
        "dir = '/content/gdrive/MyDrive/AtecneaYTB/modelo'\n",
        "\n",
        "if not os.path.exists(dir):\n",
        "  os.mkdir('modelo')\n",
        "\n",
        "model.save('/content/gdrive/MyDrive/AtecneaYTB/modelo/modelo.h5')\n",
        "model.save_weights('/content/gdrive/MyDrive/AtecneaYTB/modelo/pesos.h5')"
      ],
      "metadata": {
        "id": "f2DeBYbd9XOM"
      },
      "execution_count": null,
      "outputs": []
    },
    {
      "cell_type": "code",
      "source": [
        "# Prediccion\n",
        "\n",
        "import keras\n",
        "import numpy as np\n",
        "import cv2\n",
        "\n",
        "# Cargar modelo guardado\n",
        "#model = keras.models.load_model('ruta/a/tu/modelo.h5')\n",
        "\n",
        "# Cargar datos para predecir\n",
        "img = cv2.imread('3923.jpg', cv2.IMREAD_GRAYSCALE)\n",
        "\n",
        "# Asegurarnos de que la imagen tenga el tamaño adecuado\n",
        "img = cv2.resize(img, (36, 36))\n",
        "\n",
        "# Convertir imagen a matriz numpy y normalizar valores de pixel\n",
        "X_pred = np.array([img])\n",
        "X_pred_norm = X_pred / 255.0\n",
        "\n",
        "# Realizar predicción\n",
        "y_pred = model.predict(X_pred_norm)\n",
        "\n",
        "# Obtener etiqueta predicha\n",
        "label_pred = np.argmax(y_pred)\n",
        "\n",
        "# Imprimir etiqueta predicha\n",
        "print(\"La etiqueta predicha es:\", label_pred)\n",
        "\n"
      ],
      "metadata": {
        "id": "K_909BD8HHw-",
        "colab": {
          "base_uri": "https://localhost:8080/"
        },
        "outputId": "31015c87-5ede-47fe-d786-6d0c3ac1617f"
      },
      "execution_count": null,
      "outputs": [
        {
          "output_type": "stream",
          "name": "stdout",
          "text": [
            "1/1 [==============================] - 0s 23ms/step\n",
            "La etiqueta predicha es: 3\n"
          ]
        }
      ]
    },
    {
      "cell_type": "markdown",
      "source": [
        "import tensorflow-gpu si tienes una gpu en tu equipo"
      ],
      "metadata": {
        "id": "Y2_KJDvGWgi8"
      }
    },
    {
      "cell_type": "code",
      "source": [],
      "metadata": {
        "id": "AlZglWMBWgCY"
      },
      "execution_count": null,
      "outputs": []
    }
  ]
}